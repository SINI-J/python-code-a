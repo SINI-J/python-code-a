{
 "cells": [
  {
   "cell_type": "markdown",
   "metadata": {},
   "source": [
    "# Functions\n"
   ]
  },
  {
   "cell_type": "markdown",
   "metadata": {},
   "source": [
    "### A piece of code which can be resued.\n",
    "Introduction to Functions\n",
    "\n",
    "What is a function in Python and how to create a function?\n",
    "\n",
    "Functions will be one of our main building blocks when we construct larger and larger amount of code to solve problems.\n",
    "\n",
    "So what is a function?\n",
    "\n",
    "A function groups a set of statements together to run the statements more than once. It allows us to specify parameters that can serve as inputs to the functions.\n",
    "\n",
    "Functions allow us to reuse the code instead of writing the code again and again. If you recall strings and lists, remember that len() function is used to find the length of a string. Since checking the length of a sequence is a common task, you would want to write a function that can do this repeatedly at command.\n",
    "\n",
    "Function is one of the most basic levels of reusing code in Python, and it will also allow us to start thinking of program design.\n",
    "\n"
   ]
  },
  {
   "cell_type": "code",
   "execution_count": null,
   "metadata": {},
   "outputs": [],
   "source": [
    "len"
   ]
  },
  {
   "cell_type": "code",
   "execution_count": null,
   "metadata": {},
   "outputs": [],
   "source": [
    "type(len)"
   ]
  },
  {
   "cell_type": "code",
   "execution_count": null,
   "metadata": {},
   "outputs": [],
   "source": [
    "num_letters = len(\"four\")\n",
    "print(num_letters)"
   ]
  },
  {
   "cell_type": "code",
   "execution_count": null,
   "metadata": {},
   "outputs": [],
   "source": [
    "l=[3,4,5,6]\n",
    "x=l.pop ()\n",
    "print (x)\n",
    "print(l)"
   ]
  },
  {
   "cell_type": "markdown",
   "metadata": {},
   "source": [
    "### def Statements\n",
    "\n",
    "Now, let us learn how to build a function and what is the syntax in Python.\n",
    "\n",
    "The syntax for def statements will be in the following form:"
   ]
  },
  {
   "cell_type": "code",
   "execution_count": 4,
   "metadata": {},
   "outputs": [
    {
     "name": "stdout",
     "output_type": "stream",
     "text": [
      "I am after function\n"
     ]
    }
   ],
   "source": [
    "def subject():\n",
    "    print( \"python class\")\n",
    "    print (\"I Am learning python\")\n",
    "print (\"I am after function\")"
   ]
  },
  {
   "cell_type": "code",
   "execution_count": 5,
   "metadata": {},
   "outputs": [
    {
     "name": "stdout",
     "output_type": "stream",
     "text": [
      "python class\n",
      "I Am learning python\n"
     ]
    }
   ],
   "source": [
    "def subject():\n",
    "    print( \"python class\")\n",
    "    print (\"I Am learning python\")\n",
    "subject()"
   ]
  },
  {
   "cell_type": "code",
   "execution_count": 6,
   "metadata": {},
   "outputs": [
    {
     "name": "stdout",
     "output_type": "stream",
     "text": [
      "I am before function\n",
      "python_subject\n",
      "python class\n",
      "I Am learning python\n",
      "I am after function\n"
     ]
    }
   ],
   "source": [
    "def python_subject():\n",
    "    print( \"python class\")\n",
    "    print (\"I Am learning python\")\n",
    "\n",
    "print (\"I am before function\")\n",
    "print(\"python_subject\")\n",
    "python_subject()# function call\n",
    "print (\"I am after function\")"
   ]
  },
  {
   "cell_type": "code",
   "execution_count": 7,
   "metadata": {},
   "outputs": [
    {
     "name": "stdout",
     "output_type": "stream",
     "text": [
      "python class\n",
      "I Am learning python\n"
     ]
    }
   ],
   "source": [
    "subject()"
   ]
  },
  {
   "cell_type": "code",
   "execution_count": 8,
   "metadata": {},
   "outputs": [
    {
     "name": "stdout",
     "output_type": "stream",
     "text": [
      "python class\n",
      "I Am learning python\n",
      "python class\n",
      "I Am learning python\n"
     ]
    }
   ],
   "source": [
    "subject()\n",
    "subject()"
   ]
  },
  {
   "cell_type": "code",
   "execution_count": 9,
   "metadata": {},
   "outputs": [
    {
     "name": "stdout",
     "output_type": "stream",
     "text": [
      "Java class\n",
      "I Am learning Java\n"
     ]
    }
   ],
   "source": [
    "def java_subject():\n",
    "    print( \"Java class\")\n",
    "    print (\"I Am learning Java\")\n",
    "java_subject()"
   ]
  },
  {
   "cell_type": "code",
   "execution_count": 10,
   "metadata": {},
   "outputs": [],
   "source": [
    "def printsubject(name):\n",
    "    print (\" I am learning \" +name)"
   ]
  },
  {
   "cell_type": "code",
   "execution_count": 11,
   "metadata": {},
   "outputs": [
    {
     "name": "stdout",
     "output_type": "stream",
     "text": [
      " I am learning python\n",
      " I am learning java\n",
      " I am learning JavaScript\n",
      " I am learning scala\n"
     ]
    }
   ],
   "source": [
    "printsubject(\"python\")\n",
    "printsubject(\"java\")\n",
    "printsubject(\"JavaScript\")\n",
    "printsubject(\"scala\")"
   ]
  },
  {
   "cell_type": "code",
   "execution_count": 12,
   "metadata": {},
   "outputs": [
    {
     "name": "stdout",
     "output_type": "stream",
     "text": [
      "enter subject name :machine learning\n",
      " I am learning machine learning\n"
     ]
    }
   ],
   "source": [
    "x=input(\"enter subject name :\")\n",
    "printsubject(x)"
   ]
  },
  {
   "cell_type": "code",
   "execution_count": 13,
   "metadata": {},
   "outputs": [],
   "source": [
    "def printrevevrsesubject(name):\n",
    "\tprint (name[::-1])"
   ]
  },
  {
   "cell_type": "code",
   "execution_count": 14,
   "metadata": {},
   "outputs": [
    {
     "name": "stdout",
     "output_type": "stream",
     "text": [
      "nohtyp\n"
     ]
    }
   ],
   "source": [
    "printrevevrsesubject(\"python\")"
   ]
  },
  {
   "cell_type": "code",
   "execution_count": 15,
   "metadata": {},
   "outputs": [
    {
     "name": "stdout",
     "output_type": "stream",
     "text": [
      "tpircSavaj\n"
     ]
    }
   ],
   "source": [
    "printrevevrsesubject(\"javaScript\")"
   ]
  },
  {
   "cell_type": "code",
   "execution_count": 16,
   "metadata": {},
   "outputs": [
    {
     "name": "stdout",
     "output_type": "stream",
     "text": [
      "avaj\n"
     ]
    }
   ],
   "source": [
    "printrevevrsesubject(\"java\")"
   ]
  },
  {
   "cell_type": "code",
   "execution_count": 17,
   "metadata": {},
   "outputs": [
    {
     "name": "stdout",
     "output_type": "stream",
     "text": [
      "enter string scala\n",
      "alacs\n"
     ]
    }
   ],
   "source": [
    "x=input(\"enter string \")\n",
    "printrevevrsesubject(x)"
   ]
  },
  {
   "cell_type": "code",
   "execution_count": 18,
   "metadata": {},
   "outputs": [],
   "source": [
    "def detail(age,name):\n",
    "    print (age,name)\n",
    "    "
   ]
  },
  {
   "cell_type": "code",
   "execution_count": 19,
   "metadata": {},
   "outputs": [
    {
     "name": "stdout",
     "output_type": "stream",
     "text": [
      "richard 20\n"
     ]
    }
   ],
   "source": [
    "detail(\"richard\",20)"
   ]
  },
  {
   "cell_type": "code",
   "execution_count": 22,
   "metadata": {},
   "outputs": [],
   "source": [
    "def increasesalary(salary):\n",
    "    '''This function increase the salary  by 10 %'''\n",
    "    newsalary=salary*1.10\n",
    "    print (\"Revised salary \",newsalary)\n",
    "    # this is to demo comments \n",
    "    # comments are writtern using #"
   ]
  },
  {
   "cell_type": "code",
   "execution_count": 21,
   "metadata": {},
   "outputs": [
    {
     "name": "stdout",
     "output_type": "stream",
     "text": [
      "Help on function increasesalary in module __main__:\n",
      "\n",
      "increasesalary(salary)\n",
      "    This function increase the salary  by 10 %\n",
      "\n"
     ]
    }
   ],
   "source": [
    "help(increasesalary)"
   ]
  },
  {
   "cell_type": "code",
   "execution_count": 23,
   "metadata": {},
   "outputs": [
    {
     "name": "stdout",
     "output_type": "stream",
     "text": [
      "Revised salary  220.00000000000003\n"
     ]
    }
   ],
   "source": [
    "increasesalary(200)"
   ]
  },
  {
   "cell_type": "code",
   "execution_count": 24,
   "metadata": {},
   "outputs": [
    {
     "name": "stdout",
     "output_type": "stream",
     "text": [
      "Revised salary  220.00000000000003\n"
     ]
    },
    {
     "ename": "NameError",
     "evalue": "name 'newsalary' is not defined",
     "output_type": "error",
     "traceback": [
      "\u001b[1;31m---------------------------------------------------------------------------\u001b[0m",
      "\u001b[1;31mNameError\u001b[0m                                 Traceback (most recent call last)",
      "\u001b[1;32m<ipython-input-24-8a6eb9ef6af5>\u001b[0m in \u001b[0;36m<module>\u001b[1;34m\u001b[0m\n\u001b[0;32m      1\u001b[0m \u001b[0mincreasesalary\u001b[0m\u001b[1;33m(\u001b[0m\u001b[1;36m200\u001b[0m\u001b[1;33m)\u001b[0m\u001b[1;33m\u001b[0m\u001b[1;33m\u001b[0m\u001b[0m\n\u001b[0;32m      2\u001b[0m \u001b[1;31m# print (newsalary)\u001b[0m\u001b[1;33m\u001b[0m\u001b[1;33m\u001b[0m\u001b[1;33m\u001b[0m\u001b[0m\n\u001b[1;32m----> 3\u001b[1;33m \u001b[0mbonus\u001b[0m\u001b[1;33m=\u001b[0m\u001b[1;36m2\u001b[0m\u001b[1;33m*\u001b[0m\u001b[0mnewsalary\u001b[0m\u001b[1;33m/\u001b[0m\u001b[1;36m100\u001b[0m\u001b[1;33m\u001b[0m\u001b[1;33m\u001b[0m\u001b[0m\n\u001b[0m\u001b[0;32m      4\u001b[0m \u001b[1;31m# print (\" Bonus is : \", bonus)\u001b[0m\u001b[1;33m\u001b[0m\u001b[1;33m\u001b[0m\u001b[1;33m\u001b[0m\u001b[0m\n",
      "\u001b[1;31mNameError\u001b[0m: name 'newsalary' is not defined"
     ]
    }
   ],
   "source": [
    "increasesalary(200)\n",
    "# print (newsalary)\n",
    "bonus=2*newsalary/100\n",
    "# print (\" Bonus is : \", bonus)"
   ]
  },
  {
   "cell_type": "code",
   "execution_count": 25,
   "metadata": {},
   "outputs": [
    {
     "name": "stdout",
     "output_type": "stream",
     "text": [
      "Revised salary  220.00000000000003\n",
      "220.00000000000003\n",
      " Bonus is :  4.4\n"
     ]
    }
   ],
   "source": [
    "def increasesalary(salary):\n",
    "    '''This function increase the salary  by 10 %'''\n",
    "    newsalary=salary*1.10\n",
    "    print (\"Revised salary \",newsalary)\n",
    "    return newsalary\n",
    "\n",
    "x=increasesalary(200)\n",
    "print (x)\n",
    "bonus=2*x/100\n",
    "# bonus=2*increasesalary(200)/100\n",
    "print (\" Bonus is : \", bonus)"
   ]
  },
  {
   "cell_type": "code",
   "execution_count": 26,
   "metadata": {},
   "outputs": [
    {
     "name": "stdout",
     "output_type": "stream",
     "text": [
      "inside the function area:  200\n",
      "200\n"
     ]
    }
   ],
   "source": [
    "def calculatearea(base,height):\n",
    "\tarea=base*height\n",
    "\tprint (\"inside the function area: \" ,area)\n",
    "\treturn area\n",
    "x=calculatearea(10,20)\n",
    "print (x)"
   ]
  },
  {
   "cell_type": "code",
   "execution_count": 27,
   "metadata": {},
   "outputs": [
    {
     "name": "stdout",
     "output_type": "stream",
     "text": [
      "inside the function area:  1000\n",
      "1000\n"
     ]
    }
   ],
   "source": [
    "x=calculatearea(50,20)\n",
    "print (x)"
   ]
  },
  {
   "cell_type": "code",
   "execution_count": 28,
   "metadata": {},
   "outputs": [
    {
     "name": "stdout",
     "output_type": "stream",
     "text": [
      "3. in sample\n",
      "1. in increasesalary\n",
      "2. Revised salary  1100.0\n",
      "4. sample salary  1100.0\n"
     ]
    }
   ],
   "source": [
    "def increasesalary(salary):\n",
    "    print(\"1. in increasesalary\")\n",
    "    newsalary=salary*1.10\n",
    "    print (\"2. Revised salary \",newsalary)\n",
    "    return newsalary\n",
    "\n",
    "def sample(salary):\n",
    "    print(\"3. in sample\")\n",
    "    samplealary=increasesalary(salary)\n",
    "    print (\"4. sample salary \",samplealary)\n",
    "   \n",
    "sample(1000)\n",
    "\n",
    "# 1 in sample\n",
    "# 2 in increasesalary\n",
    "# 3 in revised salary, 1100\n",
    "# 4 sample salary 1100"
   ]
  },
  {
   "cell_type": "markdown",
   "metadata": {},
   "source": [
    "### Default Argument"
   ]
  },
  {
   "cell_type": "markdown",
   "metadata": {},
   "source": [
    "Default Argument: Python allows to call a function by specifying minimum possible arguments. \n",
    "In such cases the function \n",
    "assigns a default value which does not have a matching argument in function call.\n",
    "Default values are specified when the function is declared.\n",
    "the compiler looks at the prototype to see how many arguments a function uses and alerts the program \n",
    "for possible default values\n",
    "Default values are specified from right--> to left in the arguments list \n"
   ]
  },
  {
   "cell_type": "code",
   "execution_count": 29,
   "metadata": {},
   "outputs": [],
   "source": [
    "def calculatearea(base=50,height=100):\n",
    "\tarea=base*height/2\n",
    "\tprint(area)"
   ]
  },
  {
   "cell_type": "code",
   "execution_count": 30,
   "metadata": {},
   "outputs": [
    {
     "name": "stdout",
     "output_type": "stream",
     "text": [
      "2500.0\n"
     ]
    }
   ],
   "source": [
    "calculatearea()"
   ]
  },
  {
   "cell_type": "code",
   "execution_count": 31,
   "metadata": {},
   "outputs": [
    {
     "name": "stdout",
     "output_type": "stream",
     "text": [
      "125.0\n"
     ]
    }
   ],
   "source": [
    "calculatearea(height=5)"
   ]
  },
  {
   "cell_type": "code",
   "execution_count": 32,
   "metadata": {},
   "outputs": [
    {
     "name": "stdout",
     "output_type": "stream",
     "text": [
      "10.0\n"
     ]
    }
   ],
   "source": [
    "calculatearea(4,5)"
   ]
  },
  {
   "cell_type": "code",
   "execution_count": 33,
   "metadata": {},
   "outputs": [
    {
     "name": "stdout",
     "output_type": "stream",
     "text": [
      "200.0\n"
     ]
    }
   ],
   "source": [
    "calculatearea(4)"
   ]
  },
  {
   "cell_type": "code",
   "execution_count": 34,
   "metadata": {},
   "outputs": [
    {
     "name": "stdout",
     "output_type": "stream",
     "text": [
      "250.0\n"
     ]
    }
   ],
   "source": [
    "calculatearea(base=5)"
   ]
  },
  {
   "cell_type": "code",
   "execution_count": 35,
   "metadata": {},
   "outputs": [
    {
     "ename": "TypeError",
     "evalue": "defarg() missing 2 required positional arguments: 'name' and 'age'",
     "output_type": "error",
     "traceback": [
      "\u001b[1;31m---------------------------------------------------------------------------\u001b[0m",
      "\u001b[1;31mTypeError\u001b[0m                                 Traceback (most recent call last)",
      "\u001b[1;32m<ipython-input-35-33da99acdfdb>\u001b[0m in \u001b[0;36m<module>\u001b[1;34m\u001b[0m\n\u001b[0;32m      1\u001b[0m \u001b[1;32mdef\u001b[0m \u001b[0mdefarg\u001b[0m\u001b[1;33m(\u001b[0m\u001b[0mname\u001b[0m\u001b[1;33m,\u001b[0m\u001b[0mage\u001b[0m\u001b[1;33m)\u001b[0m\u001b[1;33m:\u001b[0m\u001b[1;33m\u001b[0m\u001b[1;33m\u001b[0m\u001b[0m\n\u001b[0;32m      2\u001b[0m     \u001b[0mprint\u001b[0m \u001b[1;33m(\u001b[0m\u001b[0mname\u001b[0m\u001b[1;33m,\u001b[0m\u001b[0mage\u001b[0m\u001b[1;33m)\u001b[0m\u001b[1;33m\u001b[0m\u001b[1;33m\u001b[0m\u001b[0m\n\u001b[1;32m----> 3\u001b[1;33m \u001b[0mdefarg\u001b[0m\u001b[1;33m(\u001b[0m\u001b[1;33m)\u001b[0m\u001b[1;33m\u001b[0m\u001b[1;33m\u001b[0m\u001b[0m\n\u001b[0m",
      "\u001b[1;31mTypeError\u001b[0m: defarg() missing 2 required positional arguments: 'name' and 'age'"
     ]
    }
   ],
   "source": [
    "def defarg(name,age):\n",
    "    print (name,age)\n",
    "defarg()"
   ]
  },
  {
   "cell_type": "code",
   "execution_count": 36,
   "metadata": {},
   "outputs": [],
   "source": [
    "def defarg(name=\"Sam\",age=20):\n",
    "\tprint (name,age)\n",
    "    \n",
    "# def defarg(int name,int age):\n",
    "# \tprint (name,age)\n",
    "\n",
    "# def defarg(int name):\n",
    "# \tprint (name)\n",
    "\n",
    "# defarg(30)\n",
    "# defarg(30,20)"
   ]
  },
  {
   "cell_type": "code",
   "execution_count": 37,
   "metadata": {},
   "outputs": [
    {
     "name": "stdout",
     "output_type": "stream",
     "text": [
      "Sam 20\n"
     ]
    }
   ],
   "source": [
    "defarg()"
   ]
  },
  {
   "cell_type": "code",
   "execution_count": 38,
   "metadata": {},
   "outputs": [
    {
     "name": "stdout",
     "output_type": "stream",
     "text": [
      "Sam 56\n"
     ]
    }
   ],
   "source": [
    "defarg(age=\"56\")"
   ]
  },
  {
   "cell_type": "code",
   "execution_count": 39,
   "metadata": {},
   "outputs": [
    {
     "name": "stdout",
     "output_type": "stream",
     "text": [
      "rocky 200\n"
     ]
    }
   ],
   "source": [
    "defarg(name=\"rocky\",age=200)"
   ]
  },
  {
   "cell_type": "code",
   "execution_count": 40,
   "metadata": {},
   "outputs": [
    {
     "name": "stdout",
     "output_type": "stream",
     "text": [
      "200 10\n"
     ]
    }
   ],
   "source": [
    "defarg(200,10)"
   ]
  },
  {
   "cell_type": "code",
   "execution_count": 41,
   "metadata": {},
   "outputs": [
    {
     "name": "stdout",
     "output_type": "stream",
     "text": [
      "200 java\n"
     ]
    }
   ],
   "source": [
    "defarg(200,\"java\")"
   ]
  },
  {
   "cell_type": "code",
   "execution_count": 42,
   "metadata": {},
   "outputs": [],
   "source": [
    "def parrot(voltage, state='a stiff', action='voom', parrottype='Norwegian Blue'):\n",
    "    print (\"-- This parrot wouldn't\", action,)\n",
    "    print (\"--if you put\", voltage, \"volts through it.\")\n",
    "    print (\"-- Lovely plumage, the\", parrottype)\n",
    "    print (\"-- It's\", state, \"!\")"
   ]
  },
  {
   "cell_type": "code",
   "execution_count": 43,
   "metadata": {},
   "outputs": [
    {
     "name": "stdout",
     "output_type": "stream",
     "text": [
      "-- This parrot wouldn't voom\n",
      "--if you put a thousand volts through it.\n",
      "-- Lovely plumage, the Norwegian Blue\n",
      "-- It's pushing up the daisies !\n"
     ]
    }
   ],
   "source": [
    "parrot('a thousand', state='pushing up the daisies')  # 1 positional, 1 keyword"
   ]
  },
  {
   "cell_type": "code",
   "execution_count": 44,
   "metadata": {},
   "outputs": [
    {
     "name": "stdout",
     "output_type": "stream",
     "text": [
      "-- This parrot wouldn't jump\n",
      "--if you put a million volts through it.\n",
      "-- Lovely plumage, the Norwegian Blue\n",
      "-- It's bereft of life !\n"
     ]
    }
   ],
   "source": [
    "parrot('a million', 'bereft of life', 'jump')         # 3 positional arguments"
   ]
  },
  {
   "cell_type": "code",
   "execution_count": 45,
   "metadata": {},
   "outputs": [
    {
     "name": "stdout",
     "output_type": "stream",
     "text": [
      "-- This parrot wouldn't wet\n",
      "--if you put 1000 volts through it.\n",
      "-- Lovely plumage, the Norwegian Blue\n",
      "-- It's  !\n"
     ]
    }
   ],
   "source": [
    "parrot(1000,'',\"wet\")# 1 positional argument"
   ]
  },
  {
   "cell_type": "code",
   "execution_count": null,
   "metadata": {},
   "outputs": [],
   "source": [
    "parrot(voltage=1000)                          # 1 keyword argument"
   ]
  },
  {
   "cell_type": "code",
   "execution_count": null,
   "metadata": {},
   "outputs": [],
   "source": [
    "parrot(voltage=1000000,action='VOOOOOM') #2 keyword arguments"
   ]
  },
  {
   "cell_type": "code",
   "execution_count": null,
   "metadata": {},
   "outputs": [],
   "source": [
    "parrot(action='VOOOOOM', voltage=1000000)             # 2 keyword arguments"
   ]
  },
  {
   "cell_type": "code",
   "execution_count": null,
   "metadata": {},
   "outputs": [],
   "source": [
    "parrot('a million', 'bereft of life', 'jump')         # 3 positional arguments"
   ]
  },
  {
   "cell_type": "code",
   "execution_count": null,
   "metadata": {},
   "outputs": [],
   "source": [
    "parrot('a thousand', state='pushing up the daisies')  # 1 positional, 1 keyword\n"
   ]
  },
  {
   "cell_type": "markdown",
   "metadata": {},
   "source": [
    "# UnPacking of data"
   ]
  },
  {
   "cell_type": "code",
   "execution_count": null,
   "metadata": {},
   "outputs": [],
   "source": [
    "d={}\n",
    "type(d)"
   ]
  },
  {
   "cell_type": "code",
   "execution_count": 46,
   "metadata": {},
   "outputs": [
    {
     "data": {
      "text/plain": [
       "{'name': 'Rakesh',\n",
       " 'age': 20,\n",
       " 'subject': 'java',\n",
       " 'level': 'beginner',\n",
       " 'second_subject': 'python'}"
      ]
     },
     "execution_count": 46,
     "metadata": {},
     "output_type": "execute_result"
    }
   ],
   "source": [
    "d ={}\n",
    "d['name']='Rakesh'\n",
    "d['age'] = 20\n",
    "d['subject']=\"java\"\n",
    "d[\"level\"]=\"beginner\"\n",
    "d[\"second_subject\"]= \"python\"\n",
    "d"
   ]
  },
  {
   "cell_type": "code",
   "execution_count": 47,
   "metadata": {},
   "outputs": [],
   "source": [
    "def varlength(mclass,name,age,subject,level,second_subject):\n",
    "\tprint( name,mclass,age,subject,level,second_subject)"
   ]
  },
  {
   "cell_type": "code",
   "execution_count": 48,
   "metadata": {},
   "outputs": [
    {
     "name": "stdout",
     "output_type": "stream",
     "text": [
      "Rakesh school 20 java beginner python\n"
     ]
    }
   ],
   "source": [
    "varlength(\"school\",**d)\n",
    "# print(d)"
   ]
  },
  {
   "cell_type": "code",
   "execution_count": null,
   "metadata": {},
   "outputs": [],
   "source": [
    "def varlength(mclass,name,age,level,subject):\n",
    "\tprint( name,mclass,age,level)"
   ]
  },
  {
   "cell_type": "code",
   "execution_count": 49,
   "metadata": {},
   "outputs": [
    {
     "name": "stdout",
     "output_type": "stream",
     "text": [
      "Rakesh school 20 java beginner python\n"
     ]
    }
   ],
   "source": [
    "d ={}\n",
    "d['name']='Rakesh'\n",
    "d['age'] = 20\n",
    "d['subject']=\"java\"\n",
    "d[\"level\"]=\"beginner\"\n",
    "d[\"second_subject\"]= \"python\"\n",
    "d\n",
    "varlength(\"school\",**d)\n"
   ]
  },
  {
   "cell_type": "code",
   "execution_count": 50,
   "metadata": {},
   "outputs": [
    {
     "ename": "SyntaxError",
     "evalue": "positional argument follows keyword argument unpacking (<ipython-input-50-6e0d2c8c3515>, line 1)",
     "output_type": "error",
     "traceback": [
      "\u001b[1;36m  File \u001b[1;32m\"<ipython-input-50-6e0d2c8c3515>\"\u001b[1;36m, line \u001b[1;32m1\u001b[0m\n\u001b[1;33m    varlength(**d,\"school\")\u001b[0m\n\u001b[1;37m                 ^\u001b[0m\n\u001b[1;31mSyntaxError\u001b[0m\u001b[1;31m:\u001b[0m positional argument follows keyword argument unpacking\n"
     ]
    }
   ],
   "source": [
    "varlength(**d,\"school\")"
   ]
  },
  {
   "cell_type": "code",
   "execution_count": 51,
   "metadata": {},
   "outputs": [
    {
     "name": "stdout",
     "output_type": "stream",
     "text": [
      "Rakesh school 20 java beginner python\n"
     ]
    }
   ],
   "source": [
    "varlength(**d, mclass=\"school\")"
   ]
  },
  {
   "cell_type": "code",
   "execution_count": 52,
   "metadata": {},
   "outputs": [],
   "source": [
    "def moreVarLen(f,h):\n",
    "    print(f)\n",
    "    print(h)"
   ]
  },
  {
   "cell_type": "code",
   "execution_count": 53,
   "metadata": {},
   "outputs": [
    {
     "name": "stdout",
     "output_type": "stream",
     "text": [
      "abc\n",
      "def\n"
     ]
    }
   ],
   "source": [
    "d = ('abc','def')\n",
    "moreVarLen(*d)"
   ]
  },
  {
   "cell_type": "code",
   "execution_count": 54,
   "metadata": {},
   "outputs": [
    {
     "name": "stdout",
     "output_type": "stream",
     "text": [
      "python abc\n",
      "def\n"
     ]
    }
   ],
   "source": [
    "def moreVarLen(x,y,z):\n",
    "    print (x,y)\n",
    "    print(z)\n",
    "# d = ['abc','def']\n",
    "d = ('abc','def')\n",
    "moreVarLen(\"python\",*d)"
   ]
  },
  {
   "cell_type": "code",
   "execution_count": 55,
   "metadata": {},
   "outputs": [
    {
     "name": "stdout",
     "output_type": "stream",
     "text": [
      "java abc\n",
      "def\n"
     ]
    }
   ],
   "source": [
    "d = ['abc','def']\n",
    "moreVarLen(\"java\",*d)"
   ]
  },
  {
   "cell_type": "code",
   "execution_count": 56,
   "metadata": {},
   "outputs": [
    {
     "name": "stdout",
     "output_type": "stream",
     "text": [
      "java abc\n",
      "[12, 11, 123]\n"
     ]
    }
   ],
   "source": [
    "def moreVarLen(x,y,z):\n",
    "    print (x,y)\n",
    "    print(z)\n",
    "d=['abc',[12,11,123]]\n",
    "moreVarLen(\"java\",*d)"
   ]
  },
  {
   "cell_type": "code",
   "execution_count": null,
   "metadata": {},
   "outputs": [],
   "source": [
    "def moreVarLen(x,y,name,age):\n",
    "    print(x,y,name,age)    \n",
    "# \tprint( \" %s, %s , %s , %d\" %(x,y,name,age))"
   ]
  },
  {
   "cell_type": "code",
   "execution_count": null,
   "metadata": {},
   "outputs": [],
   "source": [
    "d1 ={}\n",
    "d1['name']='Ashok'\n",
    "d1['age'] = 20\n",
    "l = ['abc','def']\n",
    "moreVarLen(*l,**d1)\n",
    "moreVarLen(**dl,*1)\n",
    "\n"
   ]
  },
  {
   "cell_type": "markdown",
   "metadata": {},
   "source": [
    "## Pakcing of Data"
   ]
  },
  {
   "cell_type": "code",
   "execution_count": 57,
   "metadata": {},
   "outputs": [],
   "source": [
    "def revArgLen(**d):\n",
    "    print (d)\n",
    "    print(type(d))"
   ]
  },
  {
   "cell_type": "code",
   "execution_count": 58,
   "metadata": {},
   "outputs": [
    {
     "name": "stdout",
     "output_type": "stream",
     "text": [
      "{'name': 'abc', 'age': 20, 'subject': 'python'}\n",
      "<class 'dict'>\n"
     ]
    }
   ],
   "source": [
    "revArgLen(name='abc',age=20,subject=\"python\")"
   ]
  },
  {
   "cell_type": "markdown",
   "metadata": {},
   "source": [
    "## Packed data will be alwasy Tuple or dictionary"
   ]
  },
  {
   "cell_type": "code",
   "execution_count": 59,
   "metadata": {},
   "outputs": [],
   "source": [
    "def revArgLen(*t):\n",
    "\tprint (t)\n",
    "\tprint (type(t))"
   ]
  },
  {
   "cell_type": "code",
   "execution_count": 60,
   "metadata": {},
   "outputs": [
    {
     "name": "stdout",
     "output_type": "stream",
     "text": [
      "(234, 33)\n",
      "<class 'tuple'>\n",
      "(234,)\n",
      "<class 'tuple'>\n"
     ]
    }
   ],
   "source": [
    "revArgLen(234,33)\n",
    "revArgLen(234)"
   ]
  },
  {
   "cell_type": "markdown",
   "metadata": {},
   "source": [
    "## Namespace"
   ]
  },
  {
   "cell_type": "code",
   "execution_count": 61,
   "metadata": {},
   "outputs": [
    {
     "name": "stdout",
     "output_type": "stream",
     "text": [
      "234\n",
      "234\n",
      "140708406734944\n",
      "1805406682864\n",
      "5454\n"
     ]
    }
   ],
   "source": [
    "a=5454\n",
    "def revArgLen(d):\n",
    "    a=d# a= 234\n",
    "    print (d)\n",
    "    print (a)\n",
    "    print(id(a))\n",
    "revArgLen(234) \n",
    "print(id(a))\n",
    "print(a)"
   ]
  },
  {
   "cell_type": "code",
   "execution_count": 62,
   "metadata": {},
   "outputs": [
    {
     "name": "stdout",
     "output_type": "stream",
     "text": [
      "python\n",
      "234\n",
      "python\n",
      "python\n"
     ]
    }
   ],
   "source": [
    "a=\"python\"\n",
    "def revArgLen(d):\n",
    "    print (a)\n",
    "    print (d)\n",
    "    return a\n",
    "x=revArgLen(234) \n",
    "print(x)\n",
    "print(a)"
   ]
  },
  {
   "cell_type": "code",
   "execution_count": 63,
   "metadata": {},
   "outputs": [
    {
     "name": "stdout",
     "output_type": "stream",
     "text": [
      "global variable [ a_var inside a_func() ]\n",
      "global variable [ a_var outside a_func() ]\n"
     ]
    }
   ],
   "source": [
    "a_var = 'global variable'\n",
    "def a_func():\n",
    "    print (a_var, '[ a_var inside a_func() ]')\n",
    "a_func()\n",
    "print (a_var, '[ a_var outside a_func() ]')"
   ]
  },
  {
   "cell_type": "code",
   "execution_count": null,
   "metadata": {},
   "outputs": [],
   "source": [
    "a=\"global_value\"\n",
    "print (id(a))\n",
    "b=\"global_value\"\n",
    "print (id(b))"
   ]
  },
  {
   "cell_type": "code",
   "execution_count": 64,
   "metadata": {},
   "outputs": [
    {
     "name": "stdout",
     "output_type": "stream",
     "text": [
      "1805407697264\n",
      "global value [ a_var inside a_func() ]\n",
      "global value [ a_var outside a_func() ]\n",
      "1805407696624\n"
     ]
    }
   ],
   "source": [
    "a_var = 'global value'\n",
    "def a_func():\n",
    "    a_var = 'global value'\n",
    "    print(id(a_var))\n",
    "    print (a_var, '[ a_var inside a_func() ]')\n",
    "a_func()\n",
    "print (a_var, '[ a_var outside a_func() ]')\n",
    "print(id(a_var))"
   ]
  },
  {
   "cell_type": "code",
   "execution_count": null,
   "metadata": {},
   "outputs": [],
   "source": [
    "a=\"python\""
   ]
  },
  {
   "cell_type": "code",
   "execution_count": 65,
   "metadata": {},
   "outputs": [
    {
     "name": "stdout",
     "output_type": "stream",
     "text": [
      "outside value [ a_var outside a_func() ]\n",
      "inside value [ a_var inside a_func() ]\n",
      "inside value [ a_var outside a_func() ]\n"
     ]
    }
   ],
   "source": [
    "a_var = 'outside value'# inside value\n",
    "# a_var = 'local value'\n",
    "def a_func():\n",
    "\tglobal a_var\n",
    "\ta_var = 'inside value'\n",
    "\tprint(a_var, '[ a_var inside a_func() ]')\n",
    "print (a_var, '[ a_var outside a_func() ]')\n",
    "a_func()\n",
    "print(a_var, '[ a_var outside a_func() ]')"
   ]
  },
  {
   "cell_type": "code",
   "execution_count": 66,
   "metadata": {},
   "outputs": [
    {
     "name": "stdout",
     "output_type": "stream",
     "text": [
      "1 [ a_var outside a_func() ]\n",
      "2 [ a_var inside a_func() ]\n",
      "2 [ a_var outside a_func() ]\n"
     ]
    }
   ],
   "source": [
    "a_var = 1\n",
    "def a_func():\n",
    "\tglobal a_var\n",
    "\ta_var = a_var + 1\n",
    "\tprint (a_var, '[ a_var inside a_func() ]')\n",
    "print (a_var, '[ a_var outside a_func() ]')\n",
    "a_func()\n",
    "print (a_var, '[ a_var outside a_func() ]')"
   ]
  },
  {
   "cell_type": "code",
   "execution_count": 67,
   "metadata": {},
   "outputs": [
    {
     "name": "stdout",
     "output_type": "stream",
     "text": [
      "enclosed value\n",
      "local value\n",
      "local value\n"
     ]
    }
   ],
   "source": [
    "a_var = 'global value'\n",
    "def outer():\n",
    "#     inner=\"inside function\"\n",
    "    a_var = 'enclosed value'\n",
    "    print (a_var)\n",
    "    def inner():\n",
    "        global a_var\n",
    "        a_var = 'local value'\n",
    "        print(a_var)\n",
    "    inner()\n",
    "outer()\n",
    "print (a_var)"
   ]
  },
  {
   "cell_type": "code",
   "execution_count": 68,
   "metadata": {},
   "outputs": [
    {
     "name": "stdout",
     "output_type": "stream",
     "text": [
      "3.141592653589793\n",
      "#434\n",
      "outer before: local value\n",
      "in inner(): inner value\n",
      "outer after: local value\n",
      "global: global value\n",
      "#435\n"
     ]
    }
   ],
   "source": [
    "from math import pi\n",
    "a_var = 'global value'\n",
    "def outer():\n",
    "       a_var = 'local value'\n",
    "       pi=\"#434\"\n",
    "       print (pi)\n",
    "       print('outer before:', a_var)\n",
    "       def inner():\n",
    "           a_var = 'inner value'\n",
    "           print('in inner():', a_var)\n",
    "       inner()\n",
    "       print(\"outer after:\", a_var)\n",
    "print (pi)\n",
    "outer()\n",
    "print(\"global:\", a_var)\n",
    "pi=\"#435\"\n",
    "print (pi)"
   ]
  },
  {
   "cell_type": "code",
   "execution_count": null,
   "metadata": {},
   "outputs": [],
   "source": [
    "Python fortunately doesn't allow this ambiguity. So, it will throw an error, as we can see in the following example:"
   ]
  },
  {
   "cell_type": "markdown",
   "metadata": {},
   "source": [
    "def f():\n",
    "    print(s)\n",
    "    s = \"I love London!\"\n",
    "    print(s)\n",
    " \n",
    "s = \"I love Paris!\"\n",
    "f()"
   ]
  },
  {
   "cell_type": "markdown",
   "metadata": {},
   "source": [
    "A variable can't be both local and global inside of a function. So Python decides that we want a local variable due to the assignment to s inside of f(), so the first print statement before the definition of s throws the error message above. Any variable which is changed or created inside of a function is local, if it hasn't been declared as a global variable. To tell Python, that we want to use the global variable, we have to explicitly state this by using the keyword \"global\", as can be seen in the following example:"
   ]
  },
  {
   "cell_type": "markdown",
   "metadata": {},
   "source": [
    "## Assignment"
   ]
  },
  {
   "cell_type": "markdown",
   "metadata": {},
   "source": [
    "Convert all previous assignment in to function form..... only one assignment"
   ]
  },
  {
   "cell_type": "markdown",
   "metadata": {},
   "source": [
    "Write a function called cube() with one number parameter and returns\n",
    "the value of that number raised to the third power. Test the\n",
    "function by displaying the result of calling your cube() function on\n",
    "a few different numbers.\n",
    "2. Write a function called greet() that takes one string parameter\n",
    "called name and displays the text \"Hello <name>!\", where <name> is\n",
    "replaced with the value of the name parameter."
   ]
  },
  {
   "cell_type": "markdown",
   "metadata": {},
   "source": [
    "Write a script called temperature.py that defines two functions:\n",
    "1. convert_cel_to_far() which takes one float parameter representing\n",
    "degrees Celsius and returns a float representing the same temperature\n",
    "in degrees Fahrenheit using the following formula:\n",
    "F = C * 9/5 + 32\n",
    "2. convert_far_to_cel() which take one float parameter representing\n",
    "degrees Fahrenheit and returns a float representing the same temperature\n",
    "in degrees Celsius using the following formula:\n",
    "C = (F - 32) * 5/9\n",
    "The script should first prompt the user to enter a temperature in degrees\n",
    "Fahrenheit and then display the temperature converted to Celsius.\n",
    "Then prompt the user to enter a temperature in degrees Celsius and\n",
    "display the temperature converted to Fahrenheit.\n",
    "All converted temperatures should be rounded to 2 decimal places.\n",
    "Here’s a sample run of the program:\n",
    "Enter a temperature in degrees F: 72\n",
    "72 degress F = 22.22 degrees C\n",
    "Enter a temperature in degrees C: 37\n",
    "37 degrees C = 98.60 degrees F"
   ]
  },
  {
   "cell_type": "code",
   "execution_count": null,
   "metadata": {},
   "outputs": [],
   "source": [
    "def multiply(x, y):\n",
    "    product = x * y\n",
    "    return product\n",
    "num = multiply(2, 4)\n",
    "print(num)"
   ]
  },
  {
   "cell_type": "code",
   "execution_count": null,
   "metadata": {},
   "outputs": [],
   "source": [
    "help(multiply)"
   ]
  },
  {
   "cell_type": "code",
   "execution_count": null,
   "metadata": {},
   "outputs": [],
   "source": [
    "def multiply(x, y):\n",
    "    \"\"\"Return the product of two numbers x and y.\"\"\"\n",
    "    product = x * y\n",
    "    return product"
   ]
  },
  {
   "cell_type": "code",
   "execution_count": null,
   "metadata": {},
   "outputs": [],
   "source": [
    "# help(len)\n",
    "help(multiply)"
   ]
  },
  {
   "cell_type": "code",
   "execution_count": null,
   "metadata": {},
   "outputs": [],
   "source": [
    "  /**\n",
    "         * @memberof lib\n",
    "         * @description This method sets the default audio language.\n",
    "         * @param {String} lang Language to be set as default for audio\n",
    "         * @returns {Boolean} true if success, false if not.\n",
    "         */"
   ]
  },
  {
   "cell_type": "code",
   "execution_count": null,
   "metadata": {},
   "outputs": [],
   "source": [
    "num = float(input(\"Enter a positive number: \"))\n",
    "while num <= 0:\n",
    "    print(\"That's not a positive number!\")\n",
    "    num = float(input(\"Enter a positive number: \"))"
   ]
  },
  {
   "cell_type": "code",
   "execution_count": null,
   "metadata": {},
   "outputs": [],
   "source": [
    "word = \"Python\"\n",
    "index = 0\n",
    "while index < len(word):\n",
    "    print(word[index])\n",
    "    index = index + 1"
   ]
  },
  {
   "cell_type": "code",
   "execution_count": null,
   "metadata": {},
   "outputs": [],
   "source": [
    "x = \"Hello World\"\n",
    "def func():\n",
    "    x = 2\n",
    "    print(f\"Inside 'func', x has the value {x}\")\n",
    "func()\n",
    "print(f\"Outside 'func', x has the value {x}\")"
   ]
  },
  {
   "cell_type": "code",
   "execution_count": null,
   "metadata": {},
   "outputs": [],
   "source": [
    "x = 5\n",
    "def outer_func():\n",
    "    y = 3\n",
    "    def inner_func():\n",
    "        z = x + y\n",
    "        return z\n",
    "    return inner_func()\n",
    "#     return 8\n",
    "\n",
    "outer_func()"
   ]
  },
  {
   "cell_type": "code",
   "execution_count": null,
   "metadata": {},
   "outputs": [],
   "source": [
    "total = 0\n",
    "def add_to_total(n):\n",
    "    total=5\n",
    "    total = total + n\n",
    "    print(total)\n",
    "add_to_total(5)\n",
    "print(total)"
   ]
  },
  {
   "cell_type": "code",
   "execution_count": null,
   "metadata": {},
   "outputs": [],
   "source": [
    "def test():\n",
    "    return \"python\"\n",
    "# x=calculatearea(10,20)\n",
    "print (x1)\n",
    "x1=test()#"
   ]
  },
  {
   "cell_type": "markdown",
   "metadata": {},
   "source": [
    "Create a function manipulate_data that does the following\n",
    "Accepts as the first parameter a string specifying the data structure to be used list, set or \n",
    "dictionary\n",
    "Accepts as the second parameter the data to be manipulated based on the data \n",
    "structure specified e.g [1, 4, 9, 16, 25] \n",
    "for a list data structure\n",
    "\n",
    "Based off the first parameter\n",
    "\n",
    "return the reverse of a list or\n",
    "add items \"ANDELA\", \"TIA\" and \"AFRICA\" to the set and return the resulting set\n",
    "return the keys of a dictionary.\n",
    "manipulate(\"list\",[1,2,3])"
   ]
  }
 ],
 "metadata": {
  "kernelspec": {
   "display_name": "Python 3",
   "language": "python",
   "name": "python3"
  },
  "language_info": {
   "codemirror_mode": {
    "name": "ipython",
    "version": 3
   },
   "file_extension": ".py",
   "mimetype": "text/x-python",
   "name": "python",
   "nbconvert_exporter": "python",
   "pygments_lexer": "ipython3",
   "version": "3.7.3"
  }
 },
 "nbformat": 4,
 "nbformat_minor": 2
}
