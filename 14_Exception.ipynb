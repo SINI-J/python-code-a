{
 "cells": [
  {
   "cell_type": "markdown",
   "metadata": {},
   "source": [
    "# Errors and Exception Handling\n",
    "\n",
    "In this section, we will learn about Errors and Exception Handling in Python. You've might have definitely encountered errors by this point in the course. For example:"
   ]
  },
  {
   "cell_type": "code",
   "execution_count": null,
   "metadata": {},
   "outputs": [],
   "source": [
    "print('Hello)\n",
    "print (\"after exception\")"
   ]
  },
  {
   "cell_type": "markdown",
   "metadata": {},
   "source": [
    "Note how we get a SyntaxError, with the further description that it was an End of Line Error (EOL) while scanning the string literal. This is specific enough for us to see that we forgot a single quote at the end of the line. Understanding of these various error types will help you debug your code much faster. \n",
    "\n",
    "This type of error and description is known as an Exception. Even if a statement or expression is syntactically correct, it may cause an error when an attempt is made to execute it. Errors detected during execution are called exceptions and are not unconditionally fatal.\n",
    "\n",
    "You can check out the full list of built-in exceptions [here](https://docs.python.org/2/library/exceptions.html). Now, let's learn how to handle errors and exceptions in our own code."
   ]
  },
  {
   "cell_type": "code",
   "execution_count": null,
   "metadata": {},
   "outputs": [],
   "source": [
    "10 * (8/0)\n",
    "print (\"after exception\")"
   ]
  },
  {
   "cell_type": "code",
   "execution_count": null,
   "metadata": {},
   "outputs": [],
   "source": [
    "print (a)"
   ]
  },
  {
   "cell_type": "code",
   "execution_count": null,
   "metadata": {},
   "outputs": [],
   "source": [
    "print (4 + spam*3)\n",
    "print (\"After Exception\")"
   ]
  },
  {
   "cell_type": "code",
   "execution_count": null,
   "metadata": {},
   "outputs": [],
   "source": [
    "print ('2' * 2)"
   ]
  },
  {
   "cell_type": "code",
   "execution_count": null,
   "metadata": {},
   "outputs": [],
   "source": [
    "print ('2' + 2)"
   ]
  },
  {
   "cell_type": "code",
   "execution_count": null,
   "metadata": {},
   "outputs": [],
   "source": [
    "print (int(\"45.0\"))"
   ]
  },
  {
   "cell_type": "code",
   "execution_count": null,
   "metadata": {},
   "outputs": [],
   "source": [
    "print int(\"sdf\")\n",
    "print (\"after exception\")"
   ]
  },
  {
   "cell_type": "markdown",
   "metadata": {},
   "source": [
    "## try and except\n",
    "\n",
    "The basic terminology and syntax used to handle errors in Python is the **try** and **except** statements. The code which can cause an exception to occur is put in the *try* block and the handling of the exception are the implemented in the *except* block of code. The syntax form is:\n",
    "\n",
    "    try:\n",
    "       You do your operations here...\n",
    "       ...\n",
    "    except ExceptionI:\n",
    "       If there is ExceptionI, then execute this block.\n",
    "    except ExceptionII:\n",
    "       If there is ExceptionII, then execute this block.\n",
    "       ...\n",
    "    else:\n",
    "       If there is no exception then execute this block. \n",
    "\n",
    "Using just except, we can check for any exception: To understand better let's check out a sample code that opens and writes a file:"
   ]
  },
  {
   "cell_type": "code",
   "execution_count": null,
   "metadata": {},
   "outputs": [],
   "source": [
    "try:\n",
    "    print (8/0)\n",
    "except:\n",
    "    print (\"default exception occured\")\n",
    "print (\"after exception\")"
   ]
  },
  {
   "cell_type": "code",
   "execution_count": null,
   "metadata": {},
   "outputs": [],
   "source": [
    "try:\n",
    "    print (8/0)\n",
    "except ValueError:\n",
    "    print (\"value error exception occured\")\n",
    "except:\n",
    "    print (\"default exception occured\")\n",
    "print (\"after exception\")"
   ]
  },
  {
   "cell_type": "code",
   "execution_count": null,
   "metadata": {},
   "outputs": [],
   "source": [
    "try:\n",
    "#     print ('2' + 2)\n",
    "#     print (2/0)\n",
    "    print(\"hello\")\n",
    "\n",
    "except TypeError:\n",
    "    print (\"Type error exception occured\")\n",
    "except:\n",
    "    print (\"default exception occured\")\n",
    "\n",
    "print (\"after exception\")"
   ]
  },
  {
   "cell_type": "code",
   "execution_count": null,
   "metadata": {},
   "outputs": [],
   "source": [
    "print ('2' + 2)"
   ]
  },
  {
   "cell_type": "code",
   "execution_count": null,
   "metadata": {},
   "outputs": [],
   "source": [
    "try:\n",
    "    x = input(\"Please enter a number: \")\n",
    "    print(type(x))\n",
    "    y=int(x)\n",
    "#     print (10/0)\n",
    "except ValueError:\n",
    "    print (\"Oops!  That was no valid number.  Try again...\")"
   ]
  },
  {
   "cell_type": "code",
   "execution_count": null,
   "metadata": {},
   "outputs": [],
   "source": [
    "try:\n",
    "#     f = open('hello12331231.py')\n",
    "    f = open('output.txt')\n",
    "    s = f.readline()\n",
    "    i = int(s.strip())\n",
    "    print (i)\n",
    "\t# The except clause may specify a variable after the exception name (or tuple). The variable is bound to an exception instance with the arguments stored in instance.args.\n",
    "except IOError as e:\n",
    "    print(dir(e))\n",
    "    print (\"I/O error({0}): {1}\".format(e.errno, e.strerror))\n",
    "except ValueError:\n",
    "    print (\"Could not convert data to an integer.\")"
   ]
  },
  {
   "cell_type": "code",
   "execution_count": null,
   "metadata": {},
   "outputs": [],
   "source": [
    "try:\n",
    "    f = open('hello.txt')\n",
    "    s = f.readline()\n",
    "    i = int(s.strip())\n",
    "    print (i)\n",
    "\t# The except clause may specify a variable after the exception name (or tuple). The variable is bound to an exception instance with the arguments stored in instance.args.\n",
    "except IOError as e:\n",
    "    print (\"I/O error({0}): {1}\".format(e.errno, e.strerror))\n",
    "except ValueError:\n",
    "    print (\"Could not convert data to an integer.\")"
   ]
  },
  {
   "cell_type": "code",
   "execution_count": null,
   "metadata": {},
   "outputs": [],
   "source": [
    "try:\n",
    "    print (2 + 2)\n",
    "except TypeError:\n",
    "    print (\"Type error exception occured\")\n",
    "else:\n",
    "    print (\"No exception occured\")\n",
    "\n",
    "print (\"after exception\")"
   ]
  },
  {
   "cell_type": "code",
   "execution_count": null,
   "metadata": {},
   "outputs": [],
   "source": [
    "try:\n",
    "    f = open('hello.txt')\n",
    "    s = f.readline()\n",
    "    i = int(s.strip())\n",
    "    print (i)\n",
    "\t# The except clause may specify a variable after the exception name (or tuple). The variable is bound to an exception instance with the arguments stored in instance.args.\n",
    "except (IOError,ValueError) as e:\n",
    "    print (\"Exception occured\")\n",
    "#     print (help(e))"
   ]
  },
  {
   "cell_type": "code",
   "execution_count": 24,
   "metadata": {},
   "outputs": [
    {
     "name": "stdout",
     "output_type": "stream",
     "text": [
      "Your number: yuuyi\n",
      "You should have given either an int or a float\n",
      "There may or may not have been an exception.\n"
     ]
    }
   ],
   "source": [
    "try:\n",
    "    x = float(input(\"Your number: \"))\n",
    "    inverse = 1.0 / x\n",
    "    print (inverse)\n",
    "except ValueError:\n",
    "    print (\"You should have given either an int or a float\")\n",
    "except TypeError:\n",
    "    print (\"You should have given either an int or a float\")\n",
    "except ZeroDivisionError:\n",
    "    print (\"Infinity\")\n",
    "finally:\n",
    "    print (\"There may or may not have been an exception.\")"
   ]
  },
  {
   "cell_type": "code",
   "execution_count": null,
   "metadata": {},
   "outputs": [],
   "source": [
    "print (0/0)"
   ]
  },
  {
   "cell_type": "code",
   "execution_count": 25,
   "metadata": {},
   "outputs": [
    {
     "name": "stdout",
     "output_type": "stream",
     "text": [
      "Your age: 5\n",
      "exception occured \n"
     ]
    }
   ],
   "source": [
    "try:\n",
    "    voting_age = float(input(\"Your age: \"))\n",
    "    if voting_age < 18:\n",
    "        raise ValueError(\"voting age should be atleast 18 and above\")\n",
    "    else:\n",
    "        print (\"you are eligible to vote\")\n",
    "except ValueError:\n",
    "    print (\"exception occured \")"
   ]
  },
  {
   "cell_type": "code",
   "execution_count": 27,
   "metadata": {},
   "outputs": [
    {
     "name": "stdout",
     "output_type": "stream",
     "text": [
      "Enter a number: 4\n",
      "This value is too small, try again!\n",
      "\n",
      "Congratulations! You guessed it correctly.\n"
     ]
    }
   ],
   "source": [
    "class Error(Exception):\n",
    "   \"\"\"Base class for other exceptions\"\"\"\n",
    "   pass\n",
    "class ValueTooSmallError(Error):\n",
    "   \"\"\"Raised when the input value is too small\"\"\"\n",
    "   pass\n",
    "class ValueTooLargeError(Error):\n",
    "   \"\"\"Raised when the input value is too large\"\"\"\n",
    "   pass\n",
    "# our main program user guesses a number until he/she gets it right you need to guess this number\n",
    "number = 10\n",
    "try:\n",
    "    i_num = int(input(\"Enter a number: \"))\n",
    "    if i_num < number:\n",
    "        raise ValueTooSmallError\n",
    "    elif i_num > number:\n",
    "        raise ValueTooLargeError\n",
    "except ValueTooSmallError:\n",
    "    print(\"This value is too small, try again!\")\n",
    "    print()\n",
    "except ValueTooLargeError:\n",
    "    print(\"This value is too large, try again!\")\n",
    "    print()\n",
    "\n",
    "print(\"Congratulations! You guessed it correctly.\")"
   ]
  },
  {
   "cell_type": "code",
   "execution_count": 28,
   "metadata": {},
   "outputs": [
    {
     "name": "stdout",
     "output_type": "stream",
     "text": [
      "A New Exception occured:  6\n",
      "Security threat closing all connection.......\n"
     ]
    }
   ],
   "source": [
    "class MyError(Exception):\n",
    "    # Constructor or Initializer\n",
    "    def __init__(self, value):\n",
    "        self.value = value\n",
    "    # __str__ is to print() the value\n",
    "    def __str__(self):\n",
    "        return(repr(self.value))\n",
    "    def close_connection(self):\n",
    "        print(\"Security threat closing all connection.......\")\n",
    "#         code for closing connection\n",
    "try:\n",
    "    raise(MyError(3*2))\n",
    " # Value of Exception is stored in error\n",
    "except MyError as error:\n",
    "    print('A New Exception occured: ',error.value)\n",
    "    error.close_connection()"
   ]
  },
  {
   "cell_type": "code",
   "execution_count": null,
   "metadata": {},
   "outputs": [],
   "source": [
    "# class Error is derived from super class Exception\n",
    "class Error(Exception):\n",
    "    # Error is derived class for Exception, but\n",
    "    # Base class for exceptions in this module\n",
    "    pass\n",
    "class TransitionError(Error):\n",
    "    # Raised when an operation attempts a state \n",
    "    # transition that's not allowed.\n",
    "    def __init__(self, prev, nex, msg):\n",
    "        self.prev = prev\n",
    "        self.next = nex\n",
    "        self.msg = msg # Error message thrown is saved in msg\n",
    "\n",
    "try:\n",
    "    raise(TransitionError(2,3*2,\"Not Allowed\"))\n",
    " # Value of Exception is stored in error\n",
    "except TransitionError as error:\n",
    "    print('Exception occured: ',error.msg)\n",
    "    print('Exception occured: ',error.prev)\n",
    "    print('Exception occured: ',error.nex)"
   ]
  },
  {
   "cell_type": "markdown",
   "metadata": {},
   "source": [
    "## The inbuild Exception"
   ]
  },
  {
   "cell_type": "code",
   "execution_count": 29,
   "metadata": {},
   "outputs": [
    {
     "data": {
      "text/plain": [
       "['__cause__',\n",
       " '__class__',\n",
       " '__context__',\n",
       " '__delattr__',\n",
       " '__dict__',\n",
       " '__dir__',\n",
       " '__doc__',\n",
       " '__eq__',\n",
       " '__format__',\n",
       " '__ge__',\n",
       " '__getattribute__',\n",
       " '__gt__',\n",
       " '__hash__',\n",
       " '__init__',\n",
       " '__init_subclass__',\n",
       " '__le__',\n",
       " '__lt__',\n",
       " '__ne__',\n",
       " '__new__',\n",
       " '__reduce__',\n",
       " '__reduce_ex__',\n",
       " '__repr__',\n",
       " '__setattr__',\n",
       " '__setstate__',\n",
       " '__sizeof__',\n",
       " '__str__',\n",
       " '__subclasshook__',\n",
       " '__suppress_context__',\n",
       " '__traceback__',\n",
       " 'args',\n",
       " 'with_traceback']"
      ]
     },
     "execution_count": 29,
     "metadata": {},
     "output_type": "execute_result"
    }
   ],
   "source": [
    "dir(Exception)"
   ]
  },
  {
   "cell_type": "raw",
   "metadata": {},
   "source": [
    "# BaseException\n",
    "#  +-- SystemExit\n",
    "#  +-- KeyboardInterrupt\n",
    "#  +-- GeneratorExit\n",
    "#  +-- Exception\n",
    "#       +-- StopIteration\n",
    "#       +-- StandardError\n",
    "#       |    +-- BufferError\n",
    "#       |    +-- ArithmeticError\n",
    "#       |    |    +-- FloatingPointError\n",
    "#       |    |    +-- OverflowError\n",
    "#       |    |    +-- ZeroDivisionError\n",
    "#       |    +-- AssertionError\n",
    "#       |    +-- AttributeError\n",
    "#       |    +-- EnvironmentError\n",
    "#       |    |    +-- IOError\n",
    "#       |    |    +-- OSError\n",
    "#       |    |         +-- WindowsError (Windows)\n",
    "#       |    |         +-- VMSError (VMS)\n",
    "#       |    +-- EOFError\n",
    "#       |    +-- ImportError\n",
    "#       |    +-- LookupError\n",
    "#       |    |    +-- IndexError\n",
    "#       |    |    +-- KeyError\n",
    "#       |    +-- MemoryError\n",
    "#       |    +-- NameError\n",
    "#       |    |    +-- UnboundLocalError\n",
    "#       |    +-- ReferenceError\n",
    "#       |    +-- RuntimeError\n",
    "#       |    |    +-- NotImplementedError\n",
    "#       |    +-- SyntaxError\n",
    "#       |    |    +-- IndentationError\n",
    "#       |    |         +-- TabError\n",
    "#       |    +-- SystemError\n",
    "#       |    +-- TypeError\n",
    "#       |    +-- ValueError\n",
    "#       |         +-- UnicodeError\n",
    "#       |              +-- UnicodeDecodeError\n",
    "#       |              +-- UnicodeEncodeError\n",
    "#       |              +-- UnicodeTranslateError\n",
    "#       +-- Warning\n",
    "#            +-- DeprecationWarning\n",
    "#            +-- PendingDeprecationWarning\n",
    "#            +-- RuntimeWarning\n",
    "#            +-- SyntaxWarning\n",
    "#            +-- UserWarning\n",
    "#            +-- FutureWarning\n",
    "# \t   +-- ImportWarning\n",
    "# \t   +-- UnicodeWarning\n",
    "# \t   +-- BytesWarning"
   ]
  },
  {
   "cell_type": "code",
   "execution_count": null,
   "metadata": {},
   "outputs": [],
   "source": [
    "Assignment\n",
    "Simulate above exception"
   ]
  }
 ],
 "metadata": {
  "kernelspec": {
   "display_name": "Python 3",
   "language": "python",
   "name": "python3"
  },
  "language_info": {
   "codemirror_mode": {
    "name": "ipython",
    "version": 3
   },
   "file_extension": ".py",
   "mimetype": "text/x-python",
   "name": "python",
   "nbconvert_exporter": "python",
   "pygments_lexer": "ipython3",
   "version": "3.6.4"
  }
 },
 "nbformat": 4,
 "nbformat_minor": 2
}
