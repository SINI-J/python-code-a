{
 "cells": [
  {
   "cell_type": "markdown",
   "metadata": {},
   "source": [
    "### Object-Oriented Programming (OOP)\n",
    "OOP, or Object-Oriented Programming, is a method of structuring a\n",
    "program by bundling related properties and behaviors into individual\n",
    "objects"
   ]
  },
  {
   "cell_type": "markdown",
   "metadata": {},
   "source": [
    "Let’s say you wanted to track employees in an organization. You need to store some basic information about each employee,\n",
    "such as their name, age, position, and the year they started working."
   ]
  },
  {
   "cell_type": "code",
   "execution_count": null,
   "metadata": {},
   "outputs": [],
   "source": [
    "class Car():\n",
    "#   '''This is car class'''\n",
    "  gear=\"semi\"\n",
    "  brand=\"hundai\"\n",
    "  color=\"white\"\n",
    "  def startcar(self):\n",
    "    print(\"starting the car.....\")\n",
    "c=Car()\n",
    "print(c)\n",
    "# dir(c)\n",
    "# dir(Car)"
   ]
  },
  {
   "cell_type": "code",
   "execution_count": null,
   "metadata": {},
   "outputs": [],
   "source": [
    "print(type(c))\n",
    "c.startcar()\n",
    "print(c.gear)\n",
    "print(c.brand)\n",
    "print(c.color)\n",
    "# print(Car.gear)"
   ]
  },
  {
   "cell_type": "code",
   "execution_count": null,
   "metadata": {},
   "outputs": [],
   "source": [
    "l=list()\n",
    "c=Car()\n",
    "print (type(l))\n",
    "dir(l)\n",
    "l.reverse()"
   ]
  },
  {
   "cell_type": "code",
   "execution_count": null,
   "metadata": {},
   "outputs": [],
   "source": [
    "s=\"python\"\n",
    "# print(type(s))\n",
    "print(dir(s))\n",
    "# s.startswith(\"p\")"
   ]
  },
  {
   "cell_type": "code",
   "execution_count": null,
   "metadata": {},
   "outputs": [],
   "source": [
    "t=tuple()"
   ]
  },
  {
   "cell_type": "code",
   "execution_count": null,
   "metadata": {},
   "outputs": [],
   "source": [
    "d=dict()"
   ]
  },
  {
   "cell_type": "code",
   "execution_count": null,
   "metadata": {},
   "outputs": [],
   "source": [
    "class Car():\n",
    "  '''This is car class'''\n",
    "  gear=\"semi\"\n",
    "  brand=\"hundai\"\n",
    "  color=\"white\"\n",
    "greenCar = Car()"
   ]
  },
  {
   "cell_type": "code",
   "execution_count": null,
   "metadata": {},
   "outputs": [],
   "source": [
    "greenCar.color"
   ]
  },
  {
   "cell_type": "code",
   "execution_count": null,
   "metadata": {},
   "outputs": [],
   "source": [
    "greenCar.gear"
   ]
  },
  {
   "cell_type": "code",
   "execution_count": null,
   "metadata": {},
   "outputs": [],
   "source": [
    "greenCar.color=\"green\""
   ]
  },
  {
   "cell_type": "code",
   "execution_count": null,
   "metadata": {},
   "outputs": [],
   "source": [
    "greenCar.color"
   ]
  },
  {
   "cell_type": "code",
   "execution_count": null,
   "metadata": {},
   "outputs": [],
   "source": [
    "redCar=Car()"
   ]
  },
  {
   "cell_type": "code",
   "execution_count": null,
   "metadata": {},
   "outputs": [],
   "source": [
    "redCar.color"
   ]
  },
  {
   "cell_type": "code",
   "execution_count": null,
   "metadata": {},
   "outputs": [],
   "source": [
    "redCar.gear\n"
   ]
  },
  {
   "cell_type": "code",
   "execution_count": null,
   "metadata": {},
   "outputs": [],
   "source": [
    "redCar.color=\"Red\""
   ]
  },
  {
   "cell_type": "code",
   "execution_count": null,
   "metadata": {},
   "outputs": [],
   "source": [
    "redCar.color"
   ]
  },
  {
   "cell_type": "code",
   "execution_count": null,
   "metadata": {},
   "outputs": [],
   "source": [
    "class Car:\n",
    "  gear=\"semi\"\n",
    "  color=\"white\" \n",
    "  def printDetails(self):\n",
    "    print (self.gear,self.color)\n",
    "#     print (greencar.gear,greencar.color)\n",
    "#      print(redcar.gear,redcar.color)"
   ]
  },
  {
   "cell_type": "code",
   "execution_count": null,
   "metadata": {},
   "outputs": [],
   "source": [
    "greenCar=Car()"
   ]
  },
  {
   "cell_type": "code",
   "execution_count": null,
   "metadata": {},
   "outputs": [],
   "source": [
    "greenCar.printDetails()\n",
    "# greenCar.printDetails(greenCar)\n",
    "redcar=Car()\n",
    "redcar.printDetails()\n",
    "# redcar.printDetails(redcar)"
   ]
  },
  {
   "cell_type": "code",
   "execution_count": null,
   "metadata": {},
   "outputs": [],
   "source": [
    "greenCar.color=\"green\""
   ]
  },
  {
   "cell_type": "code",
   "execution_count": null,
   "metadata": {},
   "outputs": [],
   "source": [
    "greenCar.printDetails()# greenCar.printDetails(greenCar)\n",
    "# print(Car.color)"
   ]
  },
  {
   "cell_type": "code",
   "execution_count": null,
   "metadata": {},
   "outputs": [],
   "source": [
    "redCar=Car()\n",
    "redCar.color=\"red\"\n",
    "redCar.printDetails()"
   ]
  },
  {
   "cell_type": "code",
   "execution_count": null,
   "metadata": {},
   "outputs": [],
   "source": [
    "class Employee:\n",
    "    def __init__(self):\n",
    "      print(\" This is constructor\")# this is constructor\n",
    "      self.name = \"None\"\n",
    "      self.salary = 100\n",
    "      self.age=10\n",
    "    def displayName(self):\n",
    "        print (\"Employee \",self.name)\n",
    "    def displaydetails(self):\n",
    "      print (\"Name : \", self.name,  \", Salary: \", self.salary, \", age: \", self.age)\n",
    "    def increaseSalary(self):\n",
    "      self.salary += 500\n",
    "      print (self.salary)        "
   ]
  },
  {
   "cell_type": "code",
   "execution_count": null,
   "metadata": {},
   "outputs": [],
   "source": [
    "emp1=Employee()\n",
    "print(emp1.name)\n",
    "print(emp1.salary)\n",
    "print(emp1.age)"
   ]
  },
  {
   "cell_type": "code",
   "execution_count": null,
   "metadata": {},
   "outputs": [],
   "source": [
    "emp1.name=\"ashok\"\n",
    "emp1.age=30\n",
    "emp1.salary=2000\n",
    "print(emp1.name)\n",
    "print(emp1.salary)\n",
    "print(emp1.age)"
   ]
  },
  {
   "cell_type": "code",
   "execution_count": null,
   "metadata": {},
   "outputs": [],
   "source": [
    "emp2=Employee()\n",
    "emp2.name=\"rajan\"\n",
    "emp2.age=35\n",
    "emp2.salary=3000\n",
    "print(emp2.name)\n",
    "print(emp2.salary)\n",
    "print(emp2.age)"
   ]
  },
  {
   "cell_type": "code",
   "execution_count": null,
   "metadata": {},
   "outputs": [],
   "source": [
    "print(emp1)\n",
    "print(emp2)"
   ]
  },
  {
   "cell_type": "code",
   "execution_count": null,
   "metadata": {},
   "outputs": [],
   "source": [
    "class Employee:\n",
    "    def __init__(self,x,y,z):\n",
    "      self.name = x\n",
    "      self.salary = y\n",
    "      self.age=z\n",
    "    def displayname(self):\n",
    "      print (\"Name : \", self.name,  \", Salary: \", self.salary, \", age: \", self.age)"
   ]
  },
  {
   "cell_type": "code",
   "execution_count": null,
   "metadata": {},
   "outputs": [],
   "source": [
    "emp1=Employee(\"raghav\", 2000, 14)\n",
    "emp2=Employee(\"aakash\", 4440, 14)\n",
    "emp1.displayname()"
   ]
  },
  {
   "cell_type": "code",
   "execution_count": 49,
   "metadata": {},
   "outputs": [],
   "source": [
    "class Employee:\n",
    "   count=0\n",
    "   def __init__(self,x,y,z ):\n",
    "      print(\" This is constructor\")# this is constructor\n",
    "      self.name = x\n",
    "      self.salary = y\n",
    "      self.age=z\n",
    "      Employee.count+=1\n",
    "   def __str__(self):\n",
    "     return \"I am Employee and my name is  \" +self.name\n",
    "   def displayName(self):\n",
    "     print (\"Employee \",self.name)\n",
    "   def displaydetails(self):\n",
    "      print (\"Name : \", self.name,  \", Salary: \", self.salary, \", age: \", self.age)\n",
    "   def increaseSalary(self):\n",
    "      self.salary += 500\n",
    "      print (self.salary)"
   ]
  },
  {
   "cell_type": "code",
   "execution_count": 50,
   "metadata": {},
   "outputs": [
    {
     "name": "stdout",
     "output_type": "stream",
     "text": [
      " This is constructor\n",
      "Employee  raghav\n",
      "Employee.count 1\n",
      "I am Employee and my name is  raghav\n"
     ]
    }
   ],
   "source": [
    "emp1=Employee(\"raghav\", 2000, 14)\n",
    "emp1.displayName()\n",
    "# emp1.__str__()\n",
    "print (\"Employee.count\",Employee.count)\n",
    "print(emp1)"
   ]
  },
  {
   "cell_type": "code",
   "execution_count": 51,
   "metadata": {},
   "outputs": [
    {
     "name": "stdout",
     "output_type": "stream",
     "text": [
      " This is constructor\n"
     ]
    }
   ],
   "source": [
    "emp2=Employee(\"aakash\", 5000, 15)"
   ]
  },
  {
   "cell_type": "code",
   "execution_count": 52,
   "metadata": {},
   "outputs": [
    {
     "name": "stdout",
     "output_type": "stream",
     "text": [
      "Employee  raghav\n"
     ]
    }
   ],
   "source": [
    "emp1.displayName()"
   ]
  },
  {
   "cell_type": "code",
   "execution_count": 53,
   "metadata": {},
   "outputs": [
    {
     "name": "stdout",
     "output_type": "stream",
     "text": [
      "2500\n"
     ]
    }
   ],
   "source": [
    "emp1.increaseSalary()\n",
    "# print(emp1)"
   ]
  },
  {
   "cell_type": "code",
   "execution_count": 54,
   "metadata": {},
   "outputs": [
    {
     "name": "stdout",
     "output_type": "stream",
     "text": [
      "2\n"
     ]
    }
   ],
   "source": [
    "print(Employee.count)"
   ]
  },
  {
   "cell_type": "code",
   "execution_count": 55,
   "metadata": {},
   "outputs": [
    {
     "data": {
      "text/plain": [
       "7"
      ]
     },
     "execution_count": 55,
     "metadata": {},
     "output_type": "execute_result"
    }
   ],
   "source": [
    "emp2.age = 7  # Add an 'age' attribute.\n",
    "emp2.age"
   ]
  },
  {
   "cell_type": "code",
   "execution_count": 56,
   "metadata": {},
   "outputs": [
    {
     "data": {
      "text/plain": [
       "8"
      ]
     },
     "execution_count": 56,
     "metadata": {},
     "output_type": "execute_result"
    }
   ],
   "source": [
    "emp1.age = 8  # Modify 'age' attribute.\n",
    "emp1.age\n"
   ]
  },
  {
   "cell_type": "code",
   "execution_count": 57,
   "metadata": {},
   "outputs": [
    {
     "name": "stdout",
     "output_type": "stream",
     "text": [
      "I am Employee and my name is  raghav\n"
     ]
    }
   ],
   "source": [
    "print(emp1)"
   ]
  },
  {
   "cell_type": "code",
   "execution_count": 58,
   "metadata": {},
   "outputs": [
    {
     "data": {
      "text/plain": [
       "['__class__',\n",
       " '__delattr__',\n",
       " '__dict__',\n",
       " '__dir__',\n",
       " '__doc__',\n",
       " '__eq__',\n",
       " '__format__',\n",
       " '__ge__',\n",
       " '__getattribute__',\n",
       " '__gt__',\n",
       " '__hash__',\n",
       " '__init__',\n",
       " '__init_subclass__',\n",
       " '__le__',\n",
       " '__lt__',\n",
       " '__module__',\n",
       " '__ne__',\n",
       " '__new__',\n",
       " '__reduce__',\n",
       " '__reduce_ex__',\n",
       " '__repr__',\n",
       " '__setattr__',\n",
       " '__sizeof__',\n",
       " '__str__',\n",
       " '__subclasshook__',\n",
       " '__weakref__',\n",
       " 'age',\n",
       " 'count',\n",
       " 'displayName',\n",
       " 'displaydetails',\n",
       " 'increaseSalary',\n",
       " 'name',\n",
       " 'salary']"
      ]
     },
     "execution_count": 58,
     "metadata": {},
     "output_type": "execute_result"
    }
   ],
   "source": [
    "dir(emp1)"
   ]
  },
  {
   "cell_type": "code",
   "execution_count": 59,
   "metadata": {},
   "outputs": [],
   "source": [
    "class Fraction:\n",
    "    def __init__(self, num, den):\n",
    "        self.num = num\n",
    "        self.den = den\n",
    "\n",
    "    def __str__(self):\n",
    "        return '(' + str(self.num) + '/' + str(self.den) + ')'\n",
    "# // done till here shobha and shaikh"
   ]
  },
  {
   "cell_type": "code",
   "execution_count": 60,
   "metadata": {},
   "outputs": [
    {
     "name": "stdout",
     "output_type": "stream",
     "text": [
      "(1/2)\n"
     ]
    }
   ],
   "source": [
    "f = Fraction(1,2)\n",
    "t=Fraction(10,34)\n",
    "print(f)"
   ]
  },
  {
   "cell_type": "code",
   "execution_count": 61,
   "metadata": {},
   "outputs": [
    {
     "name": "stdout",
     "output_type": "stream",
     "text": [
      "(10/34)\n"
     ]
    }
   ],
   "source": [
    "print(t)"
   ]
  },
  {
   "cell_type": "code",
   "execution_count": 62,
   "metadata": {},
   "outputs": [
    {
     "name": "stdout",
     "output_type": "stream",
     "text": [
      "True\n"
     ]
    },
    {
     "data": {
      "text/plain": [
       "8"
      ]
     },
     "execution_count": 62,
     "metadata": {},
     "output_type": "execute_result"
    }
   ],
   "source": [
    "x=hasattr(emp1, 'age')    # Returns true if 'age' attribute exists\n",
    "print(x)\n",
    "getattr(emp1, 'age')    # Returns value of 'age' attribute"
   ]
  },
  {
   "cell_type": "code",
   "execution_count": 63,
   "metadata": {},
   "outputs": [
    {
     "data": {
      "text/plain": [
       "18"
      ]
     },
     "execution_count": 63,
     "metadata": {},
     "output_type": "execute_result"
    }
   ],
   "source": [
    "setattr(emp1, 'age', 18) # Set attribute 'age' at 8 emp1.age=8\n",
    "getattr(emp1, 'age')    # Returns value of 'age' attribute    # Returns value of 'age' attribute"
   ]
  },
  {
   "cell_type": "code",
   "execution_count": 64,
   "metadata": {},
   "outputs": [
    {
     "ename": "AttributeError",
     "evalue": "'Employee' object has no attribute 'age'",
     "output_type": "error",
     "traceback": [
      "\u001b[1;31m---------------------------------------------------------------------------\u001b[0m",
      "\u001b[1;31mAttributeError\u001b[0m                            Traceback (most recent call last)",
      "\u001b[1;32m<ipython-input-64-34cdcccd4fc4>\u001b[0m in \u001b[0;36m<module>\u001b[1;34m\u001b[0m\n\u001b[0;32m      1\u001b[0m \u001b[0mdelattr\u001b[0m\u001b[1;33m(\u001b[0m\u001b[0memp1\u001b[0m\u001b[1;33m,\u001b[0m \u001b[1;34m'age'\u001b[0m\u001b[1;33m)\u001b[0m    \u001b[1;31m# Delete attribute 'age'\u001b[0m\u001b[1;33m\u001b[0m\u001b[1;33m\u001b[0m\u001b[0m\n\u001b[1;32m----> 2\u001b[1;33m \u001b[0mx\u001b[0m\u001b[1;33m=\u001b[0m \u001b[0mgetattr\u001b[0m\u001b[1;33m(\u001b[0m\u001b[0memp1\u001b[0m\u001b[1;33m,\u001b[0m \u001b[1;34m'age'\u001b[0m\u001b[1;33m)\u001b[0m    \u001b[1;31m# Returns value of 'age' attribute\u001b[0m\u001b[1;33m\u001b[0m\u001b[1;33m\u001b[0m\u001b[0m\n\u001b[0m\u001b[0;32m      3\u001b[0m \u001b[0mprint\u001b[0m\u001b[1;33m(\u001b[0m\u001b[0mx\u001b[0m\u001b[1;33m)\u001b[0m\u001b[1;33m\u001b[0m\u001b[1;33m\u001b[0m\u001b[0m\n\u001b[0;32m      4\u001b[0m     \u001b[1;31m# Returns value of 'age' attribute    # Returns value of 'age' attribute\u001b[0m\u001b[1;33m\u001b[0m\u001b[1;33m\u001b[0m\u001b[1;33m\u001b[0m\u001b[0m\n",
      "\u001b[1;31mAttributeError\u001b[0m: 'Employee' object has no attribute 'age'"
     ]
    }
   ],
   "source": [
    "delattr(emp1, 'age')    # Delete attribute 'age'\n",
    "x= getattr(emp1, 'age')    # Returns value of 'age' attribute\n",
    "print(x)\n",
    "    # Returns value of 'age' attribute    # Returns value of 'age' attribute\n"
   ]
  },
  {
   "cell_type": "code",
   "execution_count": 65,
   "metadata": {},
   "outputs": [
    {
     "data": {
      "text/plain": [
       "18"
      ]
     },
     "execution_count": 65,
     "metadata": {},
     "output_type": "execute_result"
    }
   ],
   "source": [
    "setattr(emp1, 'age', 18) # Set attribute 'age' at 8 emp1.age=8\n",
    "getattr(emp1, 'age')/// done for bicky\n"
   ]
  },
  {
   "cell_type": "code",
   "execution_count": 1,
   "metadata": {},
   "outputs": [],
   "source": [
    "class Example:\n",
    "    staticVariable = 5 # Access through class"
   ]
  },
  {
   "cell_type": "code",
   "execution_count": 2,
   "metadata": {},
   "outputs": [
    {
     "data": {
      "text/plain": [
       "5"
      ]
     },
     "execution_count": 2,
     "metadata": {},
     "output_type": "execute_result"
    }
   ],
   "source": [
    "Example.staticVariable"
   ]
  },
  {
   "cell_type": "code",
   "execution_count": 3,
   "metadata": {},
   "outputs": [
    {
     "data": {
      "text/plain": [
       "5"
      ]
     },
     "execution_count": 3,
     "metadata": {},
     "output_type": "execute_result"
    }
   ],
   "source": [
    "# Access through an instance\n",
    "instance = Example()\n",
    "instance.staticVariable # still 5"
   ]
  },
  {
   "cell_type": "code",
   "execution_count": 4,
   "metadata": {},
   "outputs": [
    {
     "data": {
      "text/plain": [
       "6"
      ]
     },
     "execution_count": 4,
     "metadata": {},
     "output_type": "execute_result"
    }
   ],
   "source": [
    "# # Change within an instance\n",
    "instance.staticVariable = 6\n",
    "instance.staticVariable # 6"
   ]
  },
  {
   "cell_type": "code",
   "execution_count": 5,
   "metadata": {},
   "outputs": [
    {
     "data": {
      "text/plain": [
       "5"
      ]
     },
     "execution_count": 5,
     "metadata": {},
     "output_type": "execute_result"
    }
   ],
   "source": [
    "Example.staticVariable"
   ]
  },
  {
   "cell_type": "code",
   "execution_count": 6,
   "metadata": {},
   "outputs": [
    {
     "data": {
      "text/plain": [
       "7"
      ]
     },
     "execution_count": 6,
     "metadata": {},
     "output_type": "execute_result"
    }
   ],
   "source": [
    "Example.staticVariable =7\n",
    "Example.staticVariable"
   ]
  },
  {
   "cell_type": "code",
   "execution_count": 7,
   "metadata": {},
   "outputs": [
    {
     "data": {
      "text/plain": [
       "6"
      ]
     },
     "execution_count": 7,
     "metadata": {},
     "output_type": "execute_result"
    }
   ],
   "source": [
    "instance.staticVariable"
   ]
  },
  {
   "cell_type": "code",
   "execution_count": 8,
   "metadata": {},
   "outputs": [],
   "source": [
    "instance1 = Example()"
   ]
  },
  {
   "cell_type": "code",
   "execution_count": 9,
   "metadata": {},
   "outputs": [
    {
     "data": {
      "text/plain": [
       "7"
      ]
     },
     "execution_count": 9,
     "metadata": {},
     "output_type": "execute_result"
    }
   ],
   "source": [
    "instance1.staticVariable"
   ]
  },
  {
   "cell_type": "code",
   "execution_count": 10,
   "metadata": {},
   "outputs": [],
   "source": [
    "class Parent:\n",
    "    parentAttr = 100\n",
    "    def __init__(self):\n",
    "        print (\"Calling parent constructor\")\n",
    "    def parentMethod(self):\n",
    "        print('Calling parent method')\n",
    "    def onlyParentAttr(self,attr):\n",
    "        Parent.parentAttr = attr\n",
    "        print (\"Parent attribute :\", Parent.parentAttr)\n",
    "    def setAttr(self, attr):\n",
    "        Parent.parentAttr = attr\n",
    "        self.parentAttr = attr+111\n",
    "    def getAttr(self):\n",
    "        print (\"Parent attribute :\", Parent.parentAttr)\n",
    "        print (\"Object attribute :\", self.parentAttr)"
   ]
  },
  {
   "cell_type": "code",
   "execution_count": 11,
   "metadata": {},
   "outputs": [
    {
     "name": "stdout",
     "output_type": "stream",
     "text": [
      "Calling parent constructor\n",
      "Parent attribute : 5000\n",
      "Object attribute : 5111\n",
      "5000\n"
     ]
    }
   ],
   "source": [
    "obj=Parent()\n",
    "obj.setAttr(5000)\n",
    "obj.getAttr()\n",
    "print(Parent.parentAttr)"
   ]
  },
  {
   "cell_type": "code",
   "execution_count": 12,
   "metadata": {},
   "outputs": [
    {
     "name": "stdout",
     "output_type": "stream",
     "text": [
      "Parent attribute : 122\n"
     ]
    }
   ],
   "source": [
    "obj.onlyParentAttr(122)"
   ]
  },
  {
   "cell_type": "code",
   "execution_count": 13,
   "metadata": {},
   "outputs": [
    {
     "name": "stdout",
     "output_type": "stream",
     "text": [
      "['__class__', '__delattr__', '__dict__', '__dir__', '__doc__', '__eq__', '__format__', '__ge__', '__getattribute__', '__gt__', '__hash__', '__init__', '__init_subclass__', '__le__', '__lt__', '__module__', '__ne__', '__new__', '__reduce__', '__reduce_ex__', '__repr__', '__setattr__', '__sizeof__', '__str__', '__subclasshook__', '__weakref__', 'getAttr', 'onlyParentAttr', 'parentAttr', 'parentMethod', 'setAttr']\n"
     ]
    }
   ],
   "source": [
    "print(dir(obj)) "
   ]
  },
  {
   "cell_type": "code",
   "execution_count": 14,
   "metadata": {},
   "outputs": [
    {
     "name": "stdout",
     "output_type": "stream",
     "text": [
      "<class '__main__.Parent'>\n"
     ]
    }
   ],
   "source": [
    "print(obj.__class__)"
   ]
  },
  {
   "cell_type": "code",
   "execution_count": null,
   "metadata": {},
   "outputs": [],
   "source": [
    "l=[]\n",
    "print(l.__class__)"
   ]
  },
  {
   "cell_type": "code",
   "execution_count": null,
   "metadata": {},
   "outputs": [],
   "source": [
    "print(obj.__module__)"
   ]
  },
  {
   "cell_type": "code",
   "execution_count": null,
   "metadata": {},
   "outputs": [],
   "source": []
  },
  {
   "cell_type": "markdown",
   "metadata": {},
   "source": [
    "### ASSIGNMENT\n",
    "Python Program to Find the Area of a Rectangle Using Classes<br>\n",
    "Python Program to Append, Delete and Display Elements of a List Using Classes<br>\n",
    "Python Program to Create a Class and Compute the Area and the Perimeter of the Circle<br>\n",
    "Python Program to compare 2 objects"
   ]
  },
  {
   "cell_type": "code",
   "execution_count": null,
   "metadata": {},
   "outputs": [],
   "source": [
    "class Employee:\n",
    "   def __init__(self,x,y,z ):\n",
    "      print(\" This is constructor\")# this is constructor\n",
    "      self.name = x\n",
    "      self.salary = y\n",
    "      self.age=z\n",
    "     \n",
    "   def displaydetails(self):\n",
    "      print (\"Name : \", self.name,  \", Salary: \", self.salary, \", age: \", self.age)\n",
    "   def compare(self,x):\n",
    "      if self.salary == x.salary:\n",
    "            print(\"salary is equal\")\n",
    "      elif self.salary > x.salary:\n",
    "           print(\"highre salary employee\", self.name)\n",
    "      elif self.salary < x.salary:\n",
    "           print(\"higere salary employee\", x.name)           "
   ]
  },
  {
   "cell_type": "code",
   "execution_count": null,
   "metadata": {},
   "outputs": [],
   "source": [
    "emp1=Employee(\"aakash\", 15000, 15)\n",
    "emp2=Employee(\"abc\", 5000, 15)\n",
    "emp1.compare(emp2)\n",
    "# emp2.compare(emp1)"
   ]
  },
  {
   "cell_type": "code",
   "execution_count": null,
   "metadata": {},
   "outputs": [],
   "source": [
    "emp1.compare(emp2)\n",
    "# print(emp1)\n",
    "# print(emp2)"
   ]
  },
  {
   "cell_type": "code",
   "execution_count": null,
   "metadata": {},
   "outputs": [],
   "source": [
    "emp1.compare(emp2)"
   ]
  },
  {
   "cell_type": "code",
   "execution_count": null,
   "metadata": {},
   "outputs": [],
   "source": [
    "print(emp1)\n",
    "print(emp2)"
   ]
  },
  {
   "cell_type": "code",
   "execution_count": null,
   "metadata": {},
   "outputs": [],
   "source": [
    "l=[1,2,3]\n",
    "print(l)\n",
    "dir(l)"
   ]
  },
  {
   "cell_type": "code",
   "execution_count": null,
   "metadata": {},
   "outputs": [],
   "source": [
    "help(l)"
   ]
  },
  {
   "cell_type": "code",
   "execution_count": null,
   "metadata": {},
   "outputs": [],
   "source": [
    "class Employee:\n",
    "    \n",
    "    def __init__(self,x,y,z ):\n",
    "        self.name=x\n",
    "        self.age=y\n",
    "        self.salary=z\n",
    " \n",
    "    def setobj(self,n,a,s):\n",
    "        self.name=n\n",
    "        self.age=a\n",
    "        self.salary=s\n",
    "    def displaydetails(self):\n",
    "      print (\"Name : \", self.name,  \", Salary: \", self.salary, \", age: \", self.age)"
   ]
  },
  {
   "cell_type": "code",
   "execution_count": null,
   "metadata": {},
   "outputs": [],
   "source": [
    "emp4=Employee(\"Sachin\",34,6000)\n",
    "emp4.displaydetails()"
   ]
  },
  {
   "cell_type": "code",
   "execution_count": null,
   "metadata": {},
   "outputs": [],
   "source": [
    "emp3=Employee()\n",
    "emp3.setobj(\"richard\",33,5000)\n",
    "emp3.displaydetails()"
   ]
  },
  {
   "cell_type": "code",
   "execution_count": null,
   "metadata": {},
   "outputs": [],
   "source": [
    "emp1=Employee()\n",
    "emp1.displaydetails()"
   ]
  },
  {
   "cell_type": "code",
   "execution_count": null,
   "metadata": {},
   "outputs": [],
   "source": [
    "emp1.name=\"peter\"\n",
    "emp1.age=100\n",
    "emp1.salary=8000"
   ]
  },
  {
   "cell_type": "code",
   "execution_count": null,
   "metadata": {},
   "outputs": [],
   "source": [
    "emp1.displaydetails()"
   ]
  },
  {
   "cell_type": "code",
   "execution_count": null,
   "metadata": {},
   "outputs": [],
   "source": [
    "emp2=Employee()\n",
    "emp2.name=\"marc\"\n",
    "emp2.age=23\n",
    "emp2.salary=18000\n",
    "emp2.displaydetails()"
   ]
  },
  {
   "cell_type": "code",
   "execution_count": null,
   "metadata": {},
   "outputs": [],
   "source": [
    "em"
   ]
  }
 ],
 "metadata": {
  "kernelspec": {
   "display_name": "Python 3",
   "language": "python",
   "name": "python3"
  },
  "language_info": {
   "codemirror_mode": {
    "name": "ipython",
    "version": 3
   },
   "file_extension": ".py",
   "mimetype": "text/x-python",
   "name": "python",
   "nbconvert_exporter": "python",
   "pygments_lexer": "ipython3",
   "version": "3.7.3"
  }
 },
 "nbformat": 4,
 "nbformat_minor": 2
}
