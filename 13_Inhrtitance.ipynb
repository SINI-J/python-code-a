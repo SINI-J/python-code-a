{
 "cells": [
  {
   "cell_type": "markdown",
   "metadata": {},
   "source": [
    "# Inheritance"
   ]
  },
  {
   "cell_type": "markdown",
   "metadata": {},
   "source": [
    "is a process by which objects of one class can aquire the properties of objects\n",
    "of another class. It uses the concept of hierarchical classification\n",
    "it provide the idea of reusability\n",
    "It is a mechanism of deriving a new class from existing class.\n",
    "The new class developed is known as derived class and the class from which it is derived is called base class\n"
   ]
  },
  {
   "cell_type": "raw",
   "metadata": {},
   "source": [
    "class Employee():\n",
    "   Body of base class will have variable and functions , like constructor and other functions\n",
    "\n",
    "class restemployyee(Employee):\n",
    "   Body of derived class will also have functions and variables\n"
   ]
  },
  {
   "cell_type": "code",
   "execution_count": null,
   "metadata": {},
   "outputs": [],
   "source": [
    "class Parent():\n",
    "    def __init__(self,x,y):\n",
    "        self.last_name=x\n",
    "        self.eye_color=y\n",
    "\n",
    "class Child():\n",
    "    def __init__(self,a,b,c):\n",
    "        self.last_name=a\n",
    "        self.eye_color=b\n",
    "        self.number_of_toys=c"
   ]
  },
  {
   "cell_type": "code",
   "execution_count": null,
   "metadata": {},
   "outputs": [],
   "source": [
    "parent1=Parent(\"gates\",\"black\")\n",
    "print (parent1.last_name)\n",
    "print (parent1.eye_color)"
   ]
  },
  {
   "cell_type": "code",
   "execution_count": null,
   "metadata": {},
   "outputs": [],
   "source": [
    "child1=Child(\"gates\",\"black\",10)\n",
    "print (child1.last_name)\n",
    "print (child1.eye_color)\n",
    "print (child1.number_of_toys)"
   ]
  },
  {
   "cell_type": "code",
   "execution_count": null,
   "metadata": {},
   "outputs": [],
   "source": [
    "class Parent():\n",
    "    def __init__(self,x,y):\n",
    "        self.last_name=x\n",
    "        self.eye_color=y\n",
    "        \n",
    "class Child(Parent):\n",
    "    def __init__(self,a,b,c):\n",
    "        Parent.__init__(self,a,b)\n",
    "#         self.last_name=x\n",
    "#         self.eye_color=y\n",
    "        self.number_of_toys=c"
   ]
  },
  {
   "cell_type": "code",
   "execution_count": null,
   "metadata": {},
   "outputs": [],
   "source": [
    "billy_cyrus=Parent(\"cyrus\",\"blue\")\n",
    "billy_cyrus.last_name"
   ]
  },
  {
   "cell_type": "code",
   "execution_count": null,
   "metadata": {},
   "outputs": [],
   "source": [
    "billy_cyrus.eye_color"
   ]
  },
  {
   "cell_type": "code",
   "execution_count": null,
   "metadata": {},
   "outputs": [],
   "source": [
    "dir(billy_cyrus)"
   ]
  },
  {
   "cell_type": "code",
   "execution_count": null,
   "metadata": {},
   "outputs": [],
   "source": [
    "mile_cyrus=Child(\"cyrus\",\"black\",8)\n",
    "mile_cyrus.last_name"
   ]
  },
  {
   "cell_type": "code",
   "execution_count": null,
   "metadata": {},
   "outputs": [],
   "source": [
    "mile_cyrus.eye_color\n"
   ]
  },
  {
   "cell_type": "code",
   "execution_count": null,
   "metadata": {},
   "outputs": [],
   "source": [
    "mile_cyrus.number_of_toys\n",
    "# print dir(mile_cyrus)"
   ]
  },
  {
   "cell_type": "code",
   "execution_count": null,
   "metadata": {},
   "outputs": [],
   "source": [
    "dir(mile_cyrus)"
   ]
  },
  {
   "cell_type": "code",
   "execution_count": 2,
   "metadata": {},
   "outputs": [],
   "source": [
    "class Parent:\n",
    "    def __init__(self):\n",
    "        self.parentAttr = 100\n",
    "        print (\"Calling parent constructor\")\n",
    "    def parentMethod(self):\n",
    "        print ('Calling parent method')\n",
    "    def setAttr(self, attr):\n",
    "        self.parentAttr = attr\n",
    "    def getAttr(self):\n",
    "        print (\"Parent attribute :\", self.parentAttr)\n",
    "\n",
    "class Child(Parent):\n",
    "    def __init__(self):\n",
    "        print (\"Calling child constructor\")\n",
    "    def childMethod(self):\n",
    "        print ('Calling child method')"
   ]
  },
  {
   "cell_type": "code",
   "execution_count": 3,
   "metadata": {},
   "outputs": [
    {
     "name": "stdout",
     "output_type": "stream",
     "text": [
      "Calling child constructor\n"
     ]
    },
    {
     "data": {
      "text/plain": [
       "['__class__',\n",
       " '__delattr__',\n",
       " '__dict__',\n",
       " '__dir__',\n",
       " '__doc__',\n",
       " '__eq__',\n",
       " '__format__',\n",
       " '__ge__',\n",
       " '__getattribute__',\n",
       " '__gt__',\n",
       " '__hash__',\n",
       " '__init__',\n",
       " '__init_subclass__',\n",
       " '__le__',\n",
       " '__lt__',\n",
       " '__module__',\n",
       " '__ne__',\n",
       " '__new__',\n",
       " '__reduce__',\n",
       " '__reduce_ex__',\n",
       " '__repr__',\n",
       " '__setattr__',\n",
       " '__sizeof__',\n",
       " '__str__',\n",
       " '__subclasshook__',\n",
       " '__weakref__',\n",
       " 'childMethod',\n",
       " 'getAttr',\n",
       " 'parentMethod',\n",
       " 'setAttr']"
      ]
     },
     "execution_count": 3,
     "metadata": {},
     "output_type": "execute_result"
    }
   ],
   "source": [
    "c = Child()\n",
    "dir(c)"
   ]
  },
  {
   "cell_type": "code",
   "execution_count": 4,
   "metadata": {},
   "outputs": [
    {
     "name": "stdout",
     "output_type": "stream",
     "text": [
      "Calling parent constructor\n"
     ]
    }
   ],
   "source": [
    "p = Parent()"
   ]
  },
  {
   "cell_type": "code",
   "execution_count": null,
   "metadata": {},
   "outputs": [],
   "source": [
    "dir(p)"
   ]
  },
  {
   "cell_type": "code",
   "execution_count": 18,
   "metadata": {},
   "outputs": [
    {
     "name": "stdout",
     "output_type": "stream",
     "text": [
      "Calling child method\n"
     ]
    }
   ],
   "source": [
    "c.childMethod()"
   ]
  },
  {
   "cell_type": "code",
   "execution_count": 20,
   "metadata": {},
   "outputs": [
    {
     "name": "stdout",
     "output_type": "stream",
     "text": [
      "Calling parent method\n"
     ]
    }
   ],
   "source": [
    "c.parentMethod()     # calls parent's method"
   ]
  },
  {
   "cell_type": "code",
   "execution_count": 5,
   "metadata": {},
   "outputs": [],
   "source": [
    "c.setAttr(200)       # again call parent's method"
   ]
  },
  {
   "cell_type": "code",
   "execution_count": 6,
   "metadata": {},
   "outputs": [
    {
     "name": "stdout",
     "output_type": "stream",
     "text": [
      "Parent attribute : 200\n"
     ]
    }
   ],
   "source": [
    "c.getAttr()          # again call parent's method\n"
   ]
  },
  {
   "cell_type": "code",
   "execution_count": 7,
   "metadata": {},
   "outputs": [
    {
     "name": "stdout",
     "output_type": "stream",
     "text": [
      "Parent attribute : 100\n"
     ]
    }
   ],
   "source": [
    "p.getAttr()"
   ]
  },
  {
   "cell_type": "code",
   "execution_count": 9,
   "metadata": {},
   "outputs": [],
   "source": [
    "class Num(object):\n",
    "    def __init__(self,num):\n",
    "        self.n1 = num\n",
    "        self.n2 = num+10\n",
    "class Num2(Num):\n",
    "    def __init__(self,num):\n",
    "        Num.__init__(self,num)\n",
    "        self.n3 = num*2\n",
    "    def show(self):\n",
    "        print (self.n1, self.n2,self.n3)"
   ]
  },
  {
   "cell_type": "code",
   "execution_count": 10,
   "metadata": {},
   "outputs": [
    {
     "name": "stdout",
     "output_type": "stream",
     "text": [
      "10\n",
      "20\n"
     ]
    }
   ],
   "source": [
    "num1=Num(10)\n",
    "print(num1.n1)\n",
    "print(num1.n2)"
   ]
  },
  {
   "cell_type": "code",
   "execution_count": 11,
   "metadata": {},
   "outputs": [
    {
     "name": "stdout",
     "output_type": "stream",
     "text": [
      "11\n",
      "21\n",
      "22\n"
     ]
    }
   ],
   "source": [
    "numChild=Num2(11)\n",
    "print(numChild.n1)\n",
    "print(numChild.n2)\n",
    "print(numChild.n3)"
   ]
  },
  {
   "cell_type": "code",
   "execution_count": null,
   "metadata": {},
   "outputs": [],
   "source": [
    "num1.n2"
   ]
  },
  {
   "cell_type": "code",
   "execution_count": null,
   "metadata": {},
   "outputs": [],
   "source": [
    "numChild=Num2(11)"
   ]
  },
  {
   "cell_type": "code",
   "execution_count": null,
   "metadata": {},
   "outputs": [],
   "source": [
    "numChild.show()"
   ]
  },
  {
   "cell_type": "code",
   "execution_count": 12,
   "metadata": {},
   "outputs": [
    {
     "name": "stdout",
     "output_type": "stream",
     "text": [
      "11 21 22\n"
     ]
    }
   ],
   "source": [
    "class Num(object):\n",
    "    def __init__(self,x):\n",
    "        self.n1 = x\n",
    "        self.n2 = x+10\n",
    "class Num2(Num):\n",
    "    def __init__(self,x):\n",
    "        super(Num2,self).__init__(x)\n",
    "        Num.__init__(self,x)\n",
    "        self.n3 = x*2\n",
    "    def show(self):\n",
    "        print (self.n1, self.n2,self.n3)\n",
    "\n",
    "numChild=Num2(11)\n",
    "numChild.show()"
   ]
  },
  {
   "cell_type": "code",
   "execution_count": null,
   "metadata": {},
   "outputs": [],
   "source": [
    "dir(object)"
   ]
  },
  {
   "cell_type": "code",
   "execution_count": 3,
   "metadata": {},
   "outputs": [
    {
     "name": "stdout",
     "output_type": "stream",
     "text": [
      "Constructor of SuperChild is called\n",
      "Constructor of UnsuperChild is called\n",
      "Constructor of SomeBaseClass is called\n"
     ]
    }
   ],
   "source": [
    "class SomeBaseClass(object):\n",
    "    def __init__(self):\n",
    "        print (\"Constructor of SomeBaseClass is called\")\n",
    "    def printhello(self):\n",
    "        print (\"helloworld\")\n",
    "class UnsuperChild(SomeBaseClass):\n",
    "    def __init__(self):\n",
    "        print (\"Constructor of UnsuperChild is called\")\n",
    "        super(UnsuperChild, self).__init__()\n",
    "class SuperChild(UnsuperChild):\n",
    "    def __init__(self):\n",
    "        print('Constructor of SuperChild is called')\n",
    "        super(SuperChild, self).__init__()\n",
    "\n",
    "# a=SomeBaseClass()  \n",
    "# b=UnsuperChild()\n",
    "c=SuperChild() # str1=\"python\""
   ]
  },
  {
   "cell_type": "code",
   "execution_count": 4,
   "metadata": {},
   "outputs": [
    {
     "data": {
      "text/plain": [
       "['__class__',\n",
       " '__delattr__',\n",
       " '__dict__',\n",
       " '__dir__',\n",
       " '__doc__',\n",
       " '__eq__',\n",
       " '__format__',\n",
       " '__ge__',\n",
       " '__getattribute__',\n",
       " '__gt__',\n",
       " '__hash__',\n",
       " '__init__',\n",
       " '__init_subclass__',\n",
       " '__le__',\n",
       " '__lt__',\n",
       " '__module__',\n",
       " '__ne__',\n",
       " '__new__',\n",
       " '__reduce__',\n",
       " '__reduce_ex__',\n",
       " '__repr__',\n",
       " '__setattr__',\n",
       " '__sizeof__',\n",
       " '__str__',\n",
       " '__subclasshook__',\n",
       " '__weakref__',\n",
       " 'printhello']"
      ]
     },
     "execution_count": 4,
     "metadata": {},
     "output_type": "execute_result"
    }
   ],
   "source": [
    "dir(c)"
   ]
  },
  {
   "cell_type": "code",
   "execution_count": 5,
   "metadata": {},
   "outputs": [
    {
     "name": "stdout",
     "output_type": "stream",
     "text": [
      "helloworld\n"
     ]
    }
   ],
   "source": [
    "c.printhello() "
   ]
  },
  {
   "cell_type": "markdown",
   "metadata": {},
   "source": [
    "## Method Overriding"
   ]
  },
  {
   "cell_type": "code",
   "execution_count": 7,
   "metadata": {},
   "outputs": [],
   "source": [
    "class Parent:        # define parent class\n",
    "   def myMethod(self):\n",
    "      print ('Calling parent method')\n",
    "   def myMethodParent(self):\n",
    "      print ('Calling parent method')\n",
    "\n",
    "class Child(Parent): # define child class\n",
    "   def myMethod(self):\n",
    "      print ('Calling child method')\n",
    "   def myMethod1(self):\n",
    "      print ('Calling child method')"
   ]
  },
  {
   "cell_type": "code",
   "execution_count": 8,
   "metadata": {},
   "outputs": [
    {
     "name": "stdout",
     "output_type": "stream",
     "text": [
      "Calling child method\n"
     ]
    }
   ],
   "source": [
    "c = Child()          # instance of child\n",
    "c.myMethod()      # child calls overridden method"
   ]
  },
  {
   "cell_type": "code",
   "execution_count": 9,
   "metadata": {},
   "outputs": [
    {
     "name": "stdout",
     "output_type": "stream",
     "text": [
      "Calling parent method\n"
     ]
    }
   ],
   "source": [
    "c.myMethodParent()         # child calls overridden method"
   ]
  },
  {
   "cell_type": "code",
   "execution_count": null,
   "metadata": {},
   "outputs": [],
   "source": [
    "p=Parent()          # instance of child\n",
    "p.myMethod()"
   ]
  },
  {
   "cell_type": "code",
   "execution_count": null,
   "metadata": {},
   "outputs": [],
   "source": [
    "dir(Child)\n"
   ]
  },
  {
   "cell_type": "markdown",
   "metadata": {},
   "source": [
    "### Private variable and methods"
   ]
  },
  {
   "cell_type": "code",
   "execution_count": 10,
   "metadata": {},
   "outputs": [],
   "source": [
    "class MyClass:\n",
    "    __privateVariable=10\n",
    "    def myPublicMethod(self):\n",
    "        print ('public method')\n",
    "    def __my(self):\n",
    "        print ('this is private!!')"
   ]
  },
  {
   "cell_type": "code",
   "execution_count": 11,
   "metadata": {},
   "outputs": [],
   "source": [
    "obj=MyClass()"
   ]
  },
  {
   "cell_type": "code",
   "execution_count": 12,
   "metadata": {},
   "outputs": [
    {
     "ename": "AttributeError",
     "evalue": "'MyClass' object has no attribute '__my'",
     "output_type": "error",
     "traceback": [
      "\u001b[1;31m---------------------------------------------------------------------------\u001b[0m",
      "\u001b[1;31mAttributeError\u001b[0m                            Traceback (most recent call last)",
      "\u001b[1;32m<ipython-input-12-4a8694ffac25>\u001b[0m in \u001b[0;36m<module>\u001b[1;34m()\u001b[0m\n\u001b[1;32m----> 1\u001b[1;33m \u001b[0mobj\u001b[0m\u001b[1;33m.\u001b[0m\u001b[0m__my\u001b[0m\u001b[1;33m(\u001b[0m\u001b[1;33m)\u001b[0m\u001b[1;33m\u001b[0m\u001b[0m\n\u001b[0m",
      "\u001b[1;31mAttributeError\u001b[0m: 'MyClass' object has no attribute '__my'"
     ]
    }
   ],
   "source": [
    "obj.__my()"
   ]
  },
  {
   "cell_type": "code",
   "execution_count": 13,
   "metadata": {},
   "outputs": [
    {
     "data": {
      "text/plain": [
       "['_MyClass__my',\n",
       " '_MyClass__privateVariable',\n",
       " '__class__',\n",
       " '__delattr__',\n",
       " '__dict__',\n",
       " '__dir__',\n",
       " '__doc__',\n",
       " '__eq__',\n",
       " '__format__',\n",
       " '__ge__',\n",
       " '__getattribute__',\n",
       " '__gt__',\n",
       " '__hash__',\n",
       " '__init__',\n",
       " '__init_subclass__',\n",
       " '__le__',\n",
       " '__lt__',\n",
       " '__module__',\n",
       " '__ne__',\n",
       " '__new__',\n",
       " '__reduce__',\n",
       " '__reduce_ex__',\n",
       " '__repr__',\n",
       " '__setattr__',\n",
       " '__sizeof__',\n",
       " '__str__',\n",
       " '__subclasshook__',\n",
       " '__weakref__',\n",
       " 'myPublicMethod']"
      ]
     },
     "execution_count": 13,
     "metadata": {},
     "output_type": "execute_result"
    }
   ],
   "source": [
    "dir(obj)"
   ]
  },
  {
   "cell_type": "code",
   "execution_count": 14,
   "metadata": {},
   "outputs": [
    {
     "name": "stdout",
     "output_type": "stream",
     "text": [
      "this is private!!\n"
     ]
    }
   ],
   "source": [
    "obj._MyClass__my()"
   ]
  },
  {
   "cell_type": "code",
   "execution_count": 15,
   "metadata": {},
   "outputs": [
    {
     "data": {
      "text/plain": [
       "10"
      ]
     },
     "execution_count": 15,
     "metadata": {},
     "output_type": "execute_result"
    }
   ],
   "source": [
    "obj._MyClass__privateVariable\n",
    "# Done for AFSHAAN"
   ]
  },
  {
   "cell_type": "code",
   "execution_count": 16,
   "metadata": {},
   "outputs": [],
   "source": [
    "class A(object):\n",
    "    def foo(self,x):\n",
    "        print (x)\n",
    "    @classmethod\n",
    "    def class_foo(cls,x):\n",
    "        print (x)\n",
    "        return x\n",
    "    @staticmethod\n",
    "    def static_foo(x):\n",
    "        abc=10\n",
    "        print(abc)\n",
    "#         print (x)"
   ]
  },
  {
   "cell_type": "code",
   "execution_count": 33,
   "metadata": {},
   "outputs": [
    {
     "name": "stdout",
     "output_type": "stream",
     "text": [
      "1\n",
      "3\n"
     ]
    }
   ],
   "source": [
    "a=A()\n",
    "b=A()\n",
    "\n",
    "# a.foo(1)\n",
    "# print(a)\n",
    "a.class_foo(1)\n",
    "# print (dir(a))\n",
    "# print(dir(A))\n",
    "# A.foo(2)\n",
    "# A.static_foo(1)\n",
    "a.static_foo(3)"
   ]
  },
  {
   "cell_type": "code",
   "execution_count": 18,
   "metadata": {},
   "outputs": [
    {
     "name": "stdout",
     "output_type": "stream",
     "text": [
      "1\n"
     ]
    }
   ],
   "source": [
    "A.class_foo(1)"
   ]
  },
  {
   "cell_type": "code",
   "execution_count": 24,
   "metadata": {},
   "outputs": [
    {
     "ename": "NameError",
     "evalue": "name 'static_foo' is not defined",
     "output_type": "error",
     "traceback": [
      "\u001b[1;31m---------------------------------------------------------------------------\u001b[0m",
      "\u001b[1;31mNameError\u001b[0m                                 Traceback (most recent call last)",
      "\u001b[1;32m<ipython-input-24-f572fc1d4376>\u001b[0m in \u001b[0;36m<module>\u001b[1;34m()\u001b[0m\n\u001b[1;32m----> 1\u001b[1;33m \u001b[0mstatic_foo\u001b[0m\u001b[1;33m(\u001b[0m\u001b[1;36m1\u001b[0m\u001b[1;33m)\u001b[0m\u001b[1;33m\u001b[0m\u001b[0m\n\u001b[0m",
      "\u001b[1;31mNameError\u001b[0m: name 'static_foo' is not defined"
     ]
    }
   ],
   "source": [
    "static_foo(1)"
   ]
  },
  {
   "cell_type": "code",
   "execution_count": 20,
   "metadata": {},
   "outputs": [
    {
     "name": "stdout",
     "output_type": "stream",
     "text": [
      "1\n"
     ]
    }
   ],
   "source": [
    "a.static_foo(1)"
   ]
  },
  {
   "cell_type": "code",
   "execution_count": 21,
   "metadata": {},
   "outputs": [
    {
     "name": "stdout",
     "output_type": "stream",
     "text": [
      "1\n"
     ]
    }
   ],
   "source": [
    "A.static_foo(1)"
   ]
  },
  {
   "cell_type": "code",
   "execution_count": null,
   "metadata": {},
   "outputs": [],
   "source": [
    "from datetime import date \n",
    "  \n",
    "class Person: \n",
    "    def __init__(self, name, age): \n",
    "        self.name = name \n",
    "        self.age = age \n",
    "      \n",
    "    # a class method to create a Person object by birth year. \n",
    "    @classmethod\n",
    "    def fromBirthYear(cls, name, year): \n",
    "        return cls(name, date.today().year - year) \n",
    "      \n",
    "    # a static method to check if a Person is adult or not. \n",
    "    @staticmethod\n",
    "    def isAdult(age): \n",
    "        return age > 18\n",
    "  \n",
    "person1 = Person('mayank', 21) \n",
    "person2 = Person.fromBirthYear('mayank', 1996) \n",
    "  \n",
    "print person1.age \n",
    "print person2.age \n",
    "  \n",
    "# print the result \n",
    "print Person.isAdult(22) "
   ]
  },
  {
   "cell_type": "code",
   "execution_count": 34,
   "metadata": {},
   "outputs": [],
   "source": [
    "class Person:\n",
    "    def __init__(self, name, surname, year_of_birth):\n",
    "        self._name = name\n",
    "        self._surname = surname\n",
    "        self._year_of_birth = year_of_birth\n",
    "    \n",
    "    def age(self, current_year):\n",
    "        return current_year - self._year_of_birth\n",
    "    def printSurname(self):\n",
    "        return self._surname\n",
    "      \n",
    "    def __str__(self):\n",
    "#         return \" i am here to learn java\"\n",
    "        return \"%s %s and was born %d.\" \\\n",
    "                % (self._name, self._surname, self._year_of_birth)\n"
   ]
  },
  {
   "cell_type": "code",
   "execution_count": 35,
   "metadata": {},
   "outputs": [
    {
     "name": "stdout",
     "output_type": "stream",
     "text": [
      "santosh kulkarni and was born 1958.\n"
     ]
    }
   ],
   "source": [
    "alec = Person(\"santosh\", \"kulkarni\", 1958)\n",
    "print (alec)"
   ]
  },
  {
   "cell_type": "code",
   "execution_count": 36,
   "metadata": {},
   "outputs": [
    {
     "data": {
      "text/plain": [
       "56"
      ]
     },
     "execution_count": 36,
     "metadata": {},
     "output_type": "execute_result"
    }
   ],
   "source": [
    "alec.age(2014)\n"
   ]
  },
  {
   "cell_type": "code",
   "execution_count": 37,
   "metadata": {},
   "outputs": [
    {
     "data": {
      "text/plain": [
       "'kulkarni'"
      ]
     },
     "execution_count": 37,
     "metadata": {},
     "output_type": "execute_result"
    }
   ],
   "source": [
    "alec.printSurname()"
   ]
  },
  {
   "cell_type": "code",
   "execution_count": 38,
   "metadata": {},
   "outputs": [
    {
     "name": "stdout",
     "output_type": "stream",
     "text": [
      "dict_keys(['_Person__name', '_Person__surname', '_Person__year_of_birth'])\n",
      "dict_values(['Alec', 'Baldwin', 1958])\n"
     ]
    }
   ],
   "source": [
    "class Person:\n",
    "    def __init__(self, name, surname, year_of_birth):\n",
    "        self.__name = name\n",
    "        self.__surname = surname\n",
    "        self.__year_of_birth = year_of_birth\n",
    "    \n",
    "    def age(self, current_year):\n",
    "        return current_year - self.__year_of_birth\n",
    "    \n",
    "    def __str__(self):\n",
    "        return \"%s %s and was born %d.\" \\\n",
    "                % (self.__name, self.__surname, self.__year_of_birth)\n",
    "    \n",
    "alec = Person(\"Alec\", \"Baldwin\", 1958)\n",
    "print(alec.__dict__.keys())\n",
    "print(alec.__dict__.values())"
   ]
  },
  {
   "cell_type": "raw",
   "metadata": {},
   "source": [
    "__dict__ is a special attribute is a dictionary containing each attribute of an object. We can see that prepending two underscores every key has _ClassName__ prepended"
   ]
  },
  {
   "cell_type": "markdown",
   "metadata": {},
   "source": [
    "### Multiple Inheritence"
   ]
  },
  {
   "cell_type": "code",
   "execution_count": 1,
   "metadata": {},
   "outputs": [],
   "source": [
    "class Base1:\n",
    "    pass\n",
    "\n",
    "class Base2:\n",
    "    pass\n",
    "\n",
    "class MultiDerived(Base1, Base2):\n",
    "    pass"
   ]
  },
  {
   "cell_type": "code",
   "execution_count": 2,
   "metadata": {},
   "outputs": [
    {
     "name": "stdout",
     "output_type": "stream",
     "text": [
      "John\n",
      "102\n"
     ]
    }
   ],
   "source": [
    "class Person:  \n",
    "    #defining constructor  \n",
    "    def __init__(self, personName, personAge):  \n",
    "        self.name = personName  \n",
    "        self.age = personAge  \n",
    "  \n",
    "    #defining class methods  \n",
    "    def showName(self):  \n",
    "        print(self.name)  \n",
    "  \n",
    "    def showAge(self):  \n",
    "        print(self.age)  \n",
    "  \n",
    "    #end of class definition  \n",
    "  \n",
    "# defining another class  \n",
    "class Student: # Person is the  \n",
    "    def __init__(self, studentId):  \n",
    "        self.studentId = studentId  \n",
    "  \n",
    "    def getId(self):  \n",
    "        return self.studentId  \n",
    "  \n",
    "  \n",
    "class Resident(Person, Student): # extends both Person and Student class  \n",
    "    def __init__(self, name, age, id):  \n",
    "        Person.__init__(self, name, age)  \n",
    "        Student.__init__(self, id)  \n",
    "  \n",
    "  \n",
    "# Create an object of the subclass  \n",
    "resident1 = Resident('John', 30, '102')  \n",
    "resident1.showName()  \n",
    "print(resident1.getId())  "
   ]
  },
  {
   "cell_type": "code",
   "execution_count": 5,
   "metadata": {},
   "outputs": [
    {
     "name": "stdout",
     "output_type": "stream",
     "text": [
      "Richard\n"
     ]
    }
   ],
   "source": [
    "class A:  \n",
    "    def __init__(self):  \n",
    "        self.name = 'John'  \n",
    "        self.age = 23  \n",
    "  \n",
    "    def getName(self):  \n",
    "        return self.name  \n",
    "  \n",
    "  \n",
    "class B:  \n",
    "    def __init__(self):  \n",
    "        self.name = 'Richard'  \n",
    "        self.id = '32'  \n",
    "  \n",
    "    def getName(self):  \n",
    "        return self.name  \n",
    "  \n",
    "  \n",
    "class C(A, B):\n",
    "\n",
    "    def __init__(self):  \n",
    "        A.__init__(self)  \n",
    "        B.__init__(self)  \n",
    "  \n",
    "    def getName(self):  \n",
    "        return self.name  \n",
    "  \n",
    "C1 = C()  \n",
    "print(C1.getName())  \n"
   ]
  },
  {
   "cell_type": "code",
   "execution_count": 10,
   "metadata": {},
   "outputs": [
    {
     "name": "stdout",
     "output_type": "stream",
     "text": [
      "Richard\n",
      "(<class '__main__.C'>, <class '__main__.B'>, <class '__main__.A'>, <class 'object'>)\n"
     ]
    },
    {
     "data": {
      "text/plain": [
       "(None,)"
      ]
     },
     "execution_count": 10,
     "metadata": {},
     "output_type": "execute_result"
    }
   ],
   "source": [
    "class A:  \n",
    "    def __init__(self):  \n",
    "#         super().__init__()  \n",
    "        self.name = 'John'  \n",
    "        self.age = 23  \n",
    "  \n",
    "    def getName(self):  \n",
    "        return self.name  \n",
    "  \n",
    "  \n",
    "class B:  \n",
    "    def __init__(self):  \n",
    "#         super().__init__()  \n",
    "        self.name = 'Richard'  \n",
    "        self.id = '32'  \n",
    "  \n",
    "    def getName(self):  \n",
    "        return self.name  \n",
    "  \n",
    "  \n",
    "# class C(A, B): \n",
    "class C(B, A):  \n",
    "\n",
    "    def __init__(self):  \n",
    "        super().__init__()  \n",
    "  \n",
    "    def getName(self):  \n",
    "        return self.name  \n",
    "  \n",
    "C1 = C()  \n",
    "print(C1.getName())  \n",
    "print(C.__mro__),"
   ]
  },
  {
   "cell_type": "code",
   "execution_count": null,
   "metadata": {},
   "outputs": [],
   "source": []
  }
 ],
 "metadata": {
  "kernelspec": {
   "display_name": "Python 3",
   "language": "python",
   "name": "python3"
  },
  "language_info": {
   "codemirror_mode": {
    "name": "ipython",
    "version": 3
   },
   "file_extension": ".py",
   "mimetype": "text/x-python",
   "name": "python",
   "nbconvert_exporter": "python",
   "pygments_lexer": "ipython3",
   "version": "3.6.4"
  }
 },
 "nbformat": 4,
 "nbformat_minor": 2
}
